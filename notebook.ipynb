{
    "metadata": {
        "kernelspec": {
            "name": "python3",
            "display_name": "Python 3",
            "language": "python"
        },
        "language_info": {
            "name": "python",
            "version": "3.7.6",
            "mimetype": "text/x-python",
            "codemirror_mode": {
                "name": "ipython",
                "version": 3
            },
            "pygments_lexer": "ipython3",
            "nbconvert_exporter": "python",
            "file_extension": ".py"
        }
    },
    "nbformat_minor": 2,
    "nbformat": 4,
    "cells": [
        {
            "cell_type": "markdown",
            "source": [
                "\\# Advanced MIcroeconomics Assignment"
            ],
            "metadata": {
                "azdata_cell_guid": "297cf86b-9cc3-481d-9ff0-c3626688939b"
            }
        },
        {
            "cell_type": "code",
            "source": [
                "print('hello microeconomics')"
            ],
            "metadata": {
                "azdata_cell_guid": "c59c7c47-3855-403b-860f-209e4a5af842"
            },
            "outputs": [
                {
                    "output_type": "stream",
                    "name": "stdout",
                    "text": "hello microeconomics\n"
                }
            ],
            "execution_count": 1
        },
        {
            "cell_type": "code",
            "source": [
                "API_KEY = \"3ab13a0b04a2f09524d1289857ca3e0f\"\n",
                "API_URL = 'http://api.eia.gov/category/?api_key=YOUR_API_KEY_HERE&category_id=294392'"
            ],
            "metadata": {
                "azdata_cell_guid": "fa0a7560-f633-44f5-bba0-59e90288b029"
            },
            "outputs": [],
            "execution_count": 11
        },
        {
            "cell_type": "code",
            "source": [
                "import requests\n",
                "response = requests.get(API_URL)\n",
                "print(response.status_code)"
            ],
            "metadata": {
                "azdata_cell_guid": "2edf05e6-8a9c-47ba-ac99-37d43989db56"
            },
            "outputs": [
                {
                    "output_type": "stream",
                    "name": "stdout",
                    "text": "200\n"
                }
            ],
            "execution_count": 5
        },
        {
            "cell_type": "markdown",
            "source": [
                "200 – OK. The request was successful. The answer itself depends on the method used (GET, POST, etc.) and the API specification.\n",
                "\n",
                "204 – No Content. The server successfully processed the request and did not return any content.\n",
                "\n",
                "301 – Moved Permanently. The server responds that the requested page (endpoint) has been moved to another address and redirects to this address.\n",
                "\n",
                "400 – Bad Request. The server cannot process the request because the client-side errors (incorrect request format).\n",
                "\n",
                "401 – Unauthorized. Occurs when authentication was failed, due to incorrect credentials or even their absence.\n",
                "\n",
                "403 – Forbidden. Access to the specified resource is denied.\n",
                "\n",
                "404 – Not Found. The requested resource was not found on the server.\n",
                "\n",
                "500 – Internal Server Error. Occurs when an unknown error has occurred on the server."
            ],
            "metadata": {
                "azdata_cell_guid": "4909382a-2472-46c5-90e4-07fc863da199"
            }
        },
        {
            "cell_type": "code",
            "source": [
                "print(response.text)"
            ],
            "metadata": {
                "azdata_cell_guid": "5ea08841-1d7e-4d2e-a2c3-d3b17386dd1e"
            },
            "outputs": [
                {
                    "output_type": "stream",
                    "name": "stdout",
                    "text": "{\"request\":{\"category_id\":\"294392\",\"command\":\"category\"},\"data\":{\"error\":\"invalid or missing api_key. For key registration, documentation, and examples see https:\\/\\/www.eia.gov\\/developer\\/\"}}\n"
                }
            ],
            "execution_count": 6
        },
        {
            "cell_type": "code",
            "source": [
                "import json\n",
                "def jprint(obj):\n",
                "    # create a formatted string of the Python JSON object\n",
                "    text = json.dumps(obj, sort_keys=True, indent=4)\n",
                "    print(text)\n",
                "jprint(response.json())"
            ],
            "metadata": {
                "azdata_cell_guid": "e4eb3864-ae92-4fa7-9d64-85528f8525cb"
            },
            "outputs": [
                {
                    "output_type": "error",
                    "ename": "ModuleNotFoundError",
                    "evalue": "No module named 'urllib2'",
                    "traceback": [
                        "\u001b[1;31m---------------------------------------------------------------------------\u001b[0m",
                        "\u001b[1;31mModuleNotFoundError\u001b[0m                       Traceback (most recent call last)",
                        "\u001b[1;32m<ipython-input-14-3b76eb2e135e>\u001b[0m in \u001b[0;36m<module>\u001b[1;34m\u001b[0m\n\u001b[1;32m----> 1\u001b[1;33m \u001b[1;32mimport\u001b[0m \u001b[0murllib2\u001b[0m\u001b[1;33m\u001b[0m\u001b[1;33m\u001b[0m\u001b[0m\n\u001b[0m\u001b[0;32m      2\u001b[0m \u001b[1;32mimport\u001b[0m \u001b[0mjson\u001b[0m\u001b[1;33m\u001b[0m\u001b[1;33m\u001b[0m\u001b[0m\n\u001b[0;32m      3\u001b[0m \u001b[1;33m\u001b[0m\u001b[0m\n\u001b[0;32m      4\u001b[0m \u001b[0mjson_obj\u001b[0m \u001b[1;33m=\u001b[0m \u001b[0murllib2\u001b[0m\u001b[1;33m.\u001b[0m\u001b[0murlopen\u001b[0m\u001b[1;33m(\u001b[0m\u001b[0mAPI_URL\u001b[0m\u001b[1;33m)\u001b[0m\u001b[1;33m\u001b[0m\u001b[1;33m\u001b[0m\u001b[0m\n",
                        "\u001b[1;31mModuleNotFoundError\u001b[0m: No module named 'urllib2'"
                    ]
                }
            ],
            "execution_count": 10
        },
        {
            "cell_type": "code",
            "source": [
                "# prima che capusco come fare questa roba passa un anno quindi lo faccio con i file"
            ],
            "metadata": {
                "azdata_cell_guid": "c25be01f-7eca-4809-a9b2-db76da0bad56"
            },
            "outputs": [],
            "execution_count": null
        },
        {
            "cell_type": "markdown",
            "source": [
                "# Data Management"
            ],
            "metadata": {
                "azdata_cell_guid": "5652dcc5-a57d-40fc-a72c-6c8050a324ef"
            }
        },
        {
            "cell_type": "markdown",
            "source": [
                "## Import Data"
            ],
            "metadata": {
                "azdata_cell_guid": "1fed0161-3dc1-4201-92b2-896ba2bf702e"
            }
        },
        {
            "cell_type": "code",
            "source": [
                "import pandas as pd"
            ],
            "metadata": {
                "azdata_cell_guid": "7e5733c6-415d-47df-92f2-9c30744b3185"
            },
            "outputs": [],
            "execution_count": 3
        },
        {
            "cell_type": "code",
            "source": [
                "data_location = 'C:/Users/User/Desktop/university/advanced microeconomics/project/analysis/data'\n",
                "\n",
                "# file extensions\n",
                "excel_old = '.xls'\n",
                "excel = '.xlsx'\n",
                "\n",
                "# file name\n",
                "futures_data_name = '/'+'PET_PRI_FUT_S1_D'\n",
                "crude_oil_production_name = '/'+ 'Table_3.1_Petroleum_Overview'\n",
                "\n",
                "\n",
                "# import data\n",
                "futures_data = pd.read_excel(data_location + futures_data_name + excel_old, sheet_name = 'Data 1', header = 2)\n",
                "crude_oil_production_data = pd.read_excel(data_location + crude_oil_production_name + excel, sheet_name = 'Monthly Data', header = 10)"
            ],
            "metadata": {
                "azdata_cell_guid": "0830ca6d-843d-4e37-bcf5-4056e7c1a1bc"
            },
            "outputs": [],
            "execution_count": 25
        },
        {
            "cell_type": "markdown",
            "source": [
                "## Select Data"
            ],
            "metadata": {
                "azdata_cell_guid": "0623b5f9-1fb0-4450-bd41-5b27817148a7"
            }
        },
        {
            "cell_type": "markdown",
            "source": [
                "### retrive only useful columns"
            ],
            "metadata": {
                "azdata_cell_guid": "ea6089d0-5738-439f-bd19-a386a3608375"
            }
        },
        {
            "cell_type": "code",
            "source": [
                "crude_oil_production_total = crude_oil_production_data[['Month','Crude Oil Production, Total']]\n",
                "crude_oil_production_total.head()"
            ],
            "metadata": {
                "azdata_cell_guid": "ed4ffe22-aad7-47a5-a72b-f9d3b2466cd7"
            },
            "outputs": [
                {
                    "output_type": "execute_result",
                    "execution_count": 26,
                    "data": {
                        "text/html": "<div>\n<style scoped>\n    .dataframe tbody tr th:only-of-type {\n        vertical-align: middle;\n    }\n\n    .dataframe tbody tr th {\n        vertical-align: top;\n    }\n\n    .dataframe thead th {\n        text-align: right;\n    }\n</style>\n<table border=\"1\" class=\"dataframe\">\n  <thead>\n    <tr style=\"text-align: right;\">\n      <th></th>\n      <th>Month</th>\n      <th>Crude Oil Production, Total</th>\n    </tr>\n  </thead>\n  <tbody>\n    <tr>\n      <th>0</th>\n      <td>NaT</td>\n      <td>(Thousand Barrels per Day)</td>\n    </tr>\n    <tr>\n      <th>1</th>\n      <td>1973-01-01</td>\n      <td>9175.93</td>\n    </tr>\n    <tr>\n      <th>2</th>\n      <td>1973-02-01</td>\n      <td>9395.21</td>\n    </tr>\n    <tr>\n      <th>3</th>\n      <td>1973-03-01</td>\n      <td>9271.93</td>\n    </tr>\n    <tr>\n      <th>4</th>\n      <td>1973-04-01</td>\n      <td>9291.9</td>\n    </tr>\n  </tbody>\n</table>\n</div>",
                        "text/plain": "       Month Crude Oil Production, Total\n0        NaT  (Thousand Barrels per Day)\n1 1973-01-01                     9175.93\n2 1973-02-01                     9395.21\n3 1973-03-01                     9271.93\n4 1973-04-01                      9291.9"
                    },
                    "metadata": {}
                }
            ],
            "execution_count": 26
        },
        {
            "cell_type": "code",
            "source": [
                "futures_data.head()"
            ],
            "metadata": {
                "azdata_cell_guid": "4894a852-4edb-453e-89a0-60d9c4478078"
            },
            "outputs": [
                {
                    "output_type": "execute_result",
                    "execution_count": 27,
                    "data": {
                        "text/html": "<div>\n<style scoped>\n    .dataframe tbody tr th:only-of-type {\n        vertical-align: middle;\n    }\n\n    .dataframe tbody tr th {\n        vertical-align: top;\n    }\n\n    .dataframe thead th {\n        text-align: right;\n    }\n</style>\n<table border=\"1\" class=\"dataframe\">\n  <thead>\n    <tr style=\"text-align: right;\">\n      <th></th>\n      <th>Date</th>\n      <th>Cushing, OK Crude Oil Future Contract 1 (Dollars per Barrel)</th>\n      <th>Cushing, OK Crude Oil Future Contract 2 (Dollars per Barrel)</th>\n      <th>Cushing, OK Crude Oil Future Contract 3 (Dollars per Barrel)</th>\n      <th>Cushing, OK Crude Oil Future Contract 4 (Dollars per Barrel)</th>\n    </tr>\n  </thead>\n  <tbody>\n    <tr>\n      <th>0</th>\n      <td>1983-03-30</td>\n      <td>NaN</td>\n      <td>NaN</td>\n      <td>29.35</td>\n      <td>NaN</td>\n    </tr>\n    <tr>\n      <th>1</th>\n      <td>1983-03-31</td>\n      <td>NaN</td>\n      <td>NaN</td>\n      <td>29.24</td>\n      <td>NaN</td>\n    </tr>\n    <tr>\n      <th>2</th>\n      <td>1983-04-04</td>\n      <td>29.44</td>\n      <td>NaN</td>\n      <td>29.10</td>\n      <td>NaN</td>\n    </tr>\n    <tr>\n      <th>3</th>\n      <td>1983-04-05</td>\n      <td>29.71</td>\n      <td>NaN</td>\n      <td>29.35</td>\n      <td>NaN</td>\n    </tr>\n    <tr>\n      <th>4</th>\n      <td>1983-04-06</td>\n      <td>29.92</td>\n      <td>NaN</td>\n      <td>29.50</td>\n      <td>NaN</td>\n    </tr>\n  </tbody>\n</table>\n</div>",
                        "text/plain": "        Date  Cushing, OK Crude Oil Future Contract 1 (Dollars per Barrel)  \\\n0 1983-03-30                                                NaN              \n1 1983-03-31                                                NaN              \n2 1983-04-04                                              29.44              \n3 1983-04-05                                              29.71              \n4 1983-04-06                                              29.92              \n\n   Cushing, OK Crude Oil Future Contract 2 (Dollars per Barrel)  \\\n0                                                NaN              \n1                                                NaN              \n2                                                NaN              \n3                                                NaN              \n4                                                NaN              \n\n   Cushing, OK Crude Oil Future Contract 3 (Dollars per Barrel)  \\\n0                                              29.35              \n1                                              29.24              \n2                                              29.10              \n3                                              29.35              \n4                                              29.50              \n\n   Cushing, OK Crude Oil Future Contract 4 (Dollars per Barrel)  \n0                                                NaN             \n1                                                NaN             \n2                                                NaN             \n3                                                NaN             \n4                                                NaN             "
                    },
                    "metadata": {}
                }
            ],
            "execution_count": 27
        },
        {
            "cell_type": "code",
            "source": [
                "futures_3_months = futures_data[['Date','Cushing, OK Crude Oil Future Contract 4 (Dollars per Barrel)']]\n",
                "futures_3_months"
            ],
            "metadata": {
                "azdata_cell_guid": "b3873a29-8ef6-4efd-bf55-ff199cc2d1f2"
            },
            "outputs": [
                {
                    "output_type": "execute_result",
                    "execution_count": 28,
                    "data": {
                        "text/html": "<div>\n<style scoped>\n    .dataframe tbody tr th:only-of-type {\n        vertical-align: middle;\n    }\n\n    .dataframe tbody tr th {\n        vertical-align: top;\n    }\n\n    .dataframe thead th {\n        text-align: right;\n    }\n</style>\n<table border=\"1\" class=\"dataframe\">\n  <thead>\n    <tr style=\"text-align: right;\">\n      <th></th>\n      <th>Date</th>\n      <th>Cushing, OK Crude Oil Future Contract 4 (Dollars per Barrel)</th>\n    </tr>\n  </thead>\n  <tbody>\n    <tr>\n      <th>0</th>\n      <td>1983-03-30</td>\n      <td>NaN</td>\n    </tr>\n    <tr>\n      <th>1</th>\n      <td>1983-03-31</td>\n      <td>NaN</td>\n    </tr>\n    <tr>\n      <th>2</th>\n      <td>1983-04-04</td>\n      <td>NaN</td>\n    </tr>\n    <tr>\n      <th>3</th>\n      <td>1983-04-05</td>\n      <td>NaN</td>\n    </tr>\n    <tr>\n      <th>4</th>\n      <td>1983-04-06</td>\n      <td>NaN</td>\n    </tr>\n    <tr>\n      <th>...</th>\n      <td>...</td>\n      <td>...</td>\n    </tr>\n    <tr>\n      <th>9514</th>\n      <td>2021-02-17</td>\n      <td>60.18</td>\n    </tr>\n    <tr>\n      <th>9515</th>\n      <td>2021-02-18</td>\n      <td>59.67</td>\n    </tr>\n    <tr>\n      <th>9516</th>\n      <td>2021-02-19</td>\n      <td>58.66</td>\n    </tr>\n    <tr>\n      <th>9517</th>\n      <td>2021-02-22</td>\n      <td>60.90</td>\n    </tr>\n    <tr>\n      <th>9518</th>\n      <td>2021-02-23</td>\n      <td>60.37</td>\n    </tr>\n  </tbody>\n</table>\n<p>9519 rows × 2 columns</p>\n</div>",
                        "text/plain": "           Date  Cushing, OK Crude Oil Future Contract 4 (Dollars per Barrel)\n0    1983-03-30                                                NaN           \n1    1983-03-31                                                NaN           \n2    1983-04-04                                                NaN           \n3    1983-04-05                                                NaN           \n4    1983-04-06                                                NaN           \n...         ...                                                ...           \n9514 2021-02-17                                              60.18           \n9515 2021-02-18                                              59.67           \n9516 2021-02-19                                              58.66           \n9517 2021-02-22                                              60.90           \n9518 2021-02-23                                              60.37           \n\n[9519 rows x 2 columns]"
                    },
                    "metadata": {}
                }
            ],
            "execution_count": 28
        },
        {
            "cell_type": "markdown",
            "source": [
                "### retrieve only useful timespan"
            ],
            "metadata": {
                "azdata_cell_guid": "b362e181-78a2-4d75-b7f2-bbc45670bd1f"
            }
        },
        {
            "cell_type": "code",
            "source": [
                "futures_3_months.dtypes"
            ],
            "metadata": {
                "azdata_cell_guid": "fdf9402c-3f36-4848-92b4-962f60741e04"
            },
            "outputs": [
                {
                    "output_type": "execute_result",
                    "execution_count": 29,
                    "data": {
                        "text/plain": "Date                                                            datetime64[ns]\nCushing, OK Crude Oil Future Contract 4 (Dollars per Barrel)           float64\ndtype: object"
                    },
                    "metadata": {}
                }
            ],
            "execution_count": 29
        },
        {
            "cell_type": "code",
            "source": [
                "start_date = pd.to_datetime('2019-02-23', utc= False)\n",
                "end_date = pd.to_datetime('2021-02-23', utc= False)\n",
                "crude_oil_production_total[(crude_oil_production_total['Month'] > start_date) & (crude_oil_production_total['Month'] <= end_date)]"
            ],
            "metadata": {
                "azdata_cell_guid": "10e9f5de-3627-47d1-8cc7-bda6b3e129d3"
            },
            "outputs": [
                {
                    "output_type": "execute_result",
                    "execution_count": 38,
                    "data": {
                        "text/html": "<div>\n<style scoped>\n    .dataframe tbody tr th:only-of-type {\n        vertical-align: middle;\n    }\n\n    .dataframe tbody tr th {\n        vertical-align: top;\n    }\n\n    .dataframe thead th {\n        text-align: right;\n    }\n</style>\n<table border=\"1\" class=\"dataframe\">\n  <thead>\n    <tr style=\"text-align: right;\">\n      <th></th>\n      <th>Month</th>\n      <th>Crude Oil Production, Total</th>\n    </tr>\n  </thead>\n  <tbody>\n    <tr>\n      <th>555</th>\n      <td>2019-03-01</td>\n      <td>11937.3</td>\n    </tr>\n    <tr>\n      <th>556</th>\n      <td>2019-04-01</td>\n      <td>12134.7</td>\n    </tr>\n    <tr>\n      <th>557</th>\n      <td>2019-05-01</td>\n      <td>12163.2</td>\n    </tr>\n    <tr>\n      <th>558</th>\n      <td>2019-06-01</td>\n      <td>12087.5</td>\n    </tr>\n    <tr>\n      <th>559</th>\n      <td>2019-07-01</td>\n      <td>11819.1</td>\n    </tr>\n    <tr>\n      <th>560</th>\n      <td>2019-08-01</td>\n      <td>12424.8</td>\n    </tr>\n    <tr>\n      <th>561</th>\n      <td>2019-09-01</td>\n      <td>12495.2</td>\n    </tr>\n    <tr>\n      <th>562</th>\n      <td>2019-10-01</td>\n      <td>12672.6</td>\n    </tr>\n    <tr>\n      <th>563</th>\n      <td>2019-11-01</td>\n      <td>12859.8</td>\n    </tr>\n    <tr>\n      <th>564</th>\n      <td>2019-12-01</td>\n      <td>12802.1</td>\n    </tr>\n    <tr>\n      <th>565</th>\n      <td>2020-01-01</td>\n      <td>12754.8</td>\n    </tr>\n    <tr>\n      <th>566</th>\n      <td>2020-02-01</td>\n      <td>12745.6</td>\n    </tr>\n    <tr>\n      <th>567</th>\n      <td>2020-03-01</td>\n      <td>12737.1</td>\n    </tr>\n    <tr>\n      <th>568</th>\n      <td>2020-04-01</td>\n      <td>12010</td>\n    </tr>\n    <tr>\n      <th>569</th>\n      <td>2020-05-01</td>\n      <td>10018.8</td>\n    </tr>\n    <tr>\n      <th>570</th>\n      <td>2020-06-01</td>\n      <td>10442.1</td>\n    </tr>\n    <tr>\n      <th>571</th>\n      <td>2020-07-01</td>\n      <td>10972.7</td>\n    </tr>\n    <tr>\n      <th>572</th>\n      <td>2020-08-01</td>\n      <td>10583.8</td>\n    </tr>\n    <tr>\n      <th>573</th>\n      <td>2020-09-01</td>\n      <td>10870.5</td>\n    </tr>\n    <tr>\n      <th>574</th>\n      <td>2020-10-01</td>\n      <td>10431.8</td>\n    </tr>\n    <tr>\n      <th>575</th>\n      <td>2020-11-01</td>\n      <td>11124</td>\n    </tr>\n    <tr>\n      <th>576</th>\n      <td>2020-12-01</td>\n      <td>11009.7</td>\n    </tr>\n    <tr>\n      <th>577</th>\n      <td>2021-01-01</td>\n      <td>10954.8</td>\n    </tr>\n  </tbody>\n</table>\n</div>",
                        "text/plain": "         Month Crude Oil Production, Total\n555 2019-03-01                     11937.3\n556 2019-04-01                     12134.7\n557 2019-05-01                     12163.2\n558 2019-06-01                     12087.5\n559 2019-07-01                     11819.1\n560 2019-08-01                     12424.8\n561 2019-09-01                     12495.2\n562 2019-10-01                     12672.6\n563 2019-11-01                     12859.8\n564 2019-12-01                     12802.1\n565 2020-01-01                     12754.8\n566 2020-02-01                     12745.6\n567 2020-03-01                     12737.1\n568 2020-04-01                       12010\n569 2020-05-01                     10018.8\n570 2020-06-01                     10442.1\n571 2020-07-01                     10972.7\n572 2020-08-01                     10583.8\n573 2020-09-01                     10870.5\n574 2020-10-01                     10431.8\n575 2020-11-01                       11124\n576 2020-12-01                     11009.7\n577 2021-01-01                     10954.8"
                    },
                    "metadata": {}
                }
            ],
            "execution_count": 38
        },
        {
            "cell_type": "code",
            "source": [
                "start_date = pd.to_datetime('2019-02-23', utc= False)\n",
                "end_date = pd.to_datetime('2021-02-23', utc= False)\n",
                "futures_3_months[(futures_3_months['Date'] > start_date) & (futures_3_months['Date'] <= end_date)]"
            ],
            "metadata": {
                "azdata_cell_guid": "c2ca4494-2712-4ad9-ae83-cf9e4744b688"
            },
            "outputs": [
                {
                    "output_type": "execute_result",
                    "execution_count": 36,
                    "data": {
                        "text/html": "<div>\n<style scoped>\n    .dataframe tbody tr th:only-of-type {\n        vertical-align: middle;\n    }\n\n    .dataframe tbody tr th {\n        vertical-align: top;\n    }\n\n    .dataframe thead th {\n        text-align: right;\n    }\n</style>\n<table border=\"1\" class=\"dataframe\">\n  <thead>\n    <tr style=\"text-align: right;\">\n      <th></th>\n      <th>Date</th>\n      <th>Cushing, OK Crude Oil Future Contract 4 (Dollars per Barrel)</th>\n    </tr>\n  </thead>\n  <tbody>\n    <tr>\n      <th>9015</th>\n      <td>2019-02-25</td>\n      <td>56.88</td>\n    </tr>\n    <tr>\n      <th>9016</th>\n      <td>2019-02-26</td>\n      <td>57.01</td>\n    </tr>\n    <tr>\n      <th>9017</th>\n      <td>2019-02-27</td>\n      <td>58.33</td>\n    </tr>\n    <tr>\n      <th>9018</th>\n      <td>2019-02-28</td>\n      <td>58.49</td>\n    </tr>\n    <tr>\n      <th>9019</th>\n      <td>2019-03-01</td>\n      <td>57.11</td>\n    </tr>\n    <tr>\n      <th>...</th>\n      <td>...</td>\n      <td>...</td>\n    </tr>\n    <tr>\n      <th>9514</th>\n      <td>2021-02-17</td>\n      <td>60.18</td>\n    </tr>\n    <tr>\n      <th>9515</th>\n      <td>2021-02-18</td>\n      <td>59.67</td>\n    </tr>\n    <tr>\n      <th>9516</th>\n      <td>2021-02-19</td>\n      <td>58.66</td>\n    </tr>\n    <tr>\n      <th>9517</th>\n      <td>2021-02-22</td>\n      <td>60.90</td>\n    </tr>\n    <tr>\n      <th>9518</th>\n      <td>2021-02-23</td>\n      <td>60.37</td>\n    </tr>\n  </tbody>\n</table>\n<p>504 rows × 2 columns</p>\n</div>",
                        "text/plain": "           Date  Cushing, OK Crude Oil Future Contract 4 (Dollars per Barrel)\n9015 2019-02-25                                              56.88           \n9016 2019-02-26                                              57.01           \n9017 2019-02-27                                              58.33           \n9018 2019-02-28                                              58.49           \n9019 2019-03-01                                              57.11           \n...         ...                                                ...           \n9514 2021-02-17                                              60.18           \n9515 2021-02-18                                              59.67           \n9516 2021-02-19                                              58.66           \n9517 2021-02-22                                              60.90           \n9518 2021-02-23                                              60.37           \n\n[504 rows x 2 columns]"
                    },
                    "metadata": {}
                }
            ],
            "execution_count": 36
        },
        {
            "cell_type": "markdown",
            "source": [
                "## perform linear regression"
            ],
            "metadata": {
                "azdata_cell_guid": "69707e79-0d56-446b-bf7f-7ae58cec0f59"
            }
        },
        {
            "cell_type": "code",
            "source": [],
            "metadata": {
                "azdata_cell_guid": "48fac5db-2612-4eb3-93ae-50a5c19e810f"
            },
            "outputs": [],
            "execution_count": 14
        },
        {
            "cell_type": "code",
            "source": [],
            "metadata": {
                "azdata_cell_guid": "b3151ddb-0a82-4f09-87e4-c1480120cb5c"
            },
            "outputs": [],
            "execution_count": null
        },
        {
            "cell_type": "code",
            "source": [],
            "metadata": {
                "azdata_cell_guid": "54f544af-bc4e-43e3-bf0f-c1ed59670f2b"
            },
            "outputs": [],
            "execution_count": null
        },
        {
            "cell_type": "code",
            "source": [],
            "metadata": {
                "azdata_cell_guid": "7b47c74c-ac54-4779-b607-caa9904dbe13"
            },
            "outputs": [],
            "execution_count": null
        },
        {
            "cell_type": "code",
            "source": [],
            "metadata": {
                "azdata_cell_guid": "409df462-edfb-4084-987a-1a6bf4418a1e"
            },
            "outputs": [],
            "execution_count": null
        },
        {
            "cell_type": "code",
            "source": [],
            "metadata": {
                "azdata_cell_guid": "daa390ca-1f85-41aa-ab44-3f4710c3a572"
            },
            "outputs": [],
            "execution_count": null
        },
        {
            "cell_type": "code",
            "source": [],
            "metadata": {
                "azdata_cell_guid": "aa149ad9-4d79-4416-a54c-69c294ea694d"
            },
            "outputs": [],
            "execution_count": null
        }
    ]
}