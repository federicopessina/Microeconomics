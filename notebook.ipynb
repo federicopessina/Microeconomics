{
 "cells": [
  {
   "cell_type": "markdown",
   "metadata": {
    "azdata_cell_guid": "297cf86b-9cc3-481d-9ff0-c3626688939b"
   },
   "source": [
    "\\# Advanced MIcroeconomics Assignment"
   ]
  },
  {
   "cell_type": "code",
   "execution_count": 3,
   "metadata": {
    "azdata_cell_guid": "c59c7c47-3855-403b-860f-209e4a5af842"
   },
   "outputs": [
    {
     "name": "stdout",
     "output_type": "stream",
     "text": [
      "hello microeconomics\n"
     ]
    }
   ],
   "source": [
    "print('hello microeconomics')"
   ]
  },
  {
   "cell_type": "code",
   "execution_count": 11,
   "metadata": {
    "azdata_cell_guid": "fa0a7560-f633-44f5-bba0-59e90288b029"
   },
   "outputs": [],
   "source": [
    "API_KEY = \"3ab13a0b04a2f09524d1289857ca3e0f\"\n",
    "API_URL = 'http://api.eia.gov/category/?api_key=YOUR_API_KEY_HERE&category_id=294392'"
   ]
  },
  {
   "cell_type": "code",
   "execution_count": 5,
   "metadata": {
    "azdata_cell_guid": "2edf05e6-8a9c-47ba-ac99-37d43989db56"
   },
   "outputs": [
    {
     "name": "stdout",
     "output_type": "stream",
     "text": [
      "200\n"
     ]
    }
   ],
   "source": [
    "import requests\n",
    "response = requests.get(API_URL)\n",
    "print(response.status_code)"
   ]
  },
  {
   "cell_type": "markdown",
   "metadata": {
    "azdata_cell_guid": "4909382a-2472-46c5-90e4-07fc863da199"
   },
   "source": [
    "200 – OK. The request was successful. The answer itself depends on the method used (GET, POST, etc.) and the API specification.\n",
    "\n",
    "204 – No Content. The server successfully processed the request and did not return any content.\n",
    "\n",
    "301 – Moved Permanently. The server responds that the requested page (endpoint) has been moved to another address and redirects to this address.\n",
    "\n",
    "400 – Bad Request. The server cannot process the request because the client-side errors (incorrect request format).\n",
    "\n",
    "401 – Unauthorized. Occurs when authentication was failed, due to incorrect credentials or even their absence.\n",
    "\n",
    "403 – Forbidden. Access to the specified resource is denied.\n",
    "\n",
    "404 – Not Found. The requested resource was not found on the server.\n",
    "\n",
    "500 – Internal Server Error. Occurs when an unknown error has occurred on the server."
   ]
  },
  {
   "cell_type": "code",
   "execution_count": 6,
   "metadata": {
    "azdata_cell_guid": "5ea08841-1d7e-4d2e-a2c3-d3b17386dd1e"
   },
   "outputs": [
    {
     "name": "stdout",
     "output_type": "stream",
     "text": [
      "{\"request\":{\"category_id\":\"294392\",\"command\":\"category\"},\"data\":{\"error\":\"invalid or missing api_key. For key registration, documentation, and examples see https:\\/\\/www.eia.gov\\/developer\\/\"}}\n"
     ]
    }
   ],
   "source": [
    "print(response.text)"
   ]
  },
  {
   "cell_type": "code",
   "execution_count": 10,
   "metadata": {
    "azdata_cell_guid": "e4eb3864-ae92-4fa7-9d64-85528f8525cb"
   },
   "outputs": [
    {
     "ename": "ModuleNotFoundError",
     "evalue": "No module named 'urllib2'",
     "output_type": "error",
     "traceback": [
      "\u001b[1;31m---------------------------------------------------------------------------\u001b[0m",
      "\u001b[1;31mModuleNotFoundError\u001b[0m                       Traceback (most recent call last)",
      "\u001b[1;32m<ipython-input-14-3b76eb2e135e>\u001b[0m in \u001b[0;36m<module>\u001b[1;34m\u001b[0m\n\u001b[1;32m----> 1\u001b[1;33m \u001b[1;32mimport\u001b[0m \u001b[0murllib2\u001b[0m\u001b[1;33m\u001b[0m\u001b[1;33m\u001b[0m\u001b[0m\n\u001b[0m\u001b[0;32m      2\u001b[0m \u001b[1;32mimport\u001b[0m \u001b[0mjson\u001b[0m\u001b[1;33m\u001b[0m\u001b[1;33m\u001b[0m\u001b[0m\n\u001b[0;32m      3\u001b[0m \u001b[1;33m\u001b[0m\u001b[0m\n\u001b[0;32m      4\u001b[0m \u001b[0mjson_obj\u001b[0m \u001b[1;33m=\u001b[0m \u001b[0murllib2\u001b[0m\u001b[1;33m.\u001b[0m\u001b[0murlopen\u001b[0m\u001b[1;33m(\u001b[0m\u001b[0mAPI_URL\u001b[0m\u001b[1;33m)\u001b[0m\u001b[1;33m\u001b[0m\u001b[1;33m\u001b[0m\u001b[0m\n",
      "\u001b[1;31mModuleNotFoundError\u001b[0m: No module named 'urllib2'"
     ]
    }
   ],
   "source": [
    "import json\n",
    "def jprint(obj):\n",
    "    # create a formatted string of the Python JSON object\n",
    "    text = json.dumps(obj, sort_keys=True, indent=4)\n",
    "    print(text)\n",
    "jprint(response.json())"
   ]
  },
  {
   "cell_type": "code",
   "execution_count": null,
   "metadata": {
    "azdata_cell_guid": "c25be01f-7eca-4809-a9b2-db76da0bad56"
   },
   "outputs": [],
   "source": [
    "# prima che capusco come fare questa roba passa un anno quindi lo faccio con i file"
   ]
  },
  {
   "cell_type": "markdown",
   "metadata": {
    "azdata_cell_guid": "5652dcc5-a57d-40fc-a72c-6c8050a324ef"
   },
   "source": [
    "# Data Management"
   ]
  },
  {
   "cell_type": "markdown",
   "metadata": {
    "azdata_cell_guid": "1fed0161-3dc1-4201-92b2-896ba2bf702e"
   },
   "source": [
    "## Import Data"
   ]
  },
  {
   "cell_type": "code",
   "execution_count": 29,
   "metadata": {
    "azdata_cell_guid": "7e5733c6-415d-47df-92f2-9c30744b3185"
   },
   "outputs": [],
   "source": [
    "import pandas as pd\n",
    "import numpy as np"
   ]
  },
  {
   "cell_type": "code",
   "execution_count": 15,
   "metadata": {
    "azdata_cell_guid": "0830ca6d-843d-4e37-bcf5-4056e7c1a1bc"
   },
   "outputs": [],
   "source": [
    "data_location = 'C:/Users/User/Desktop/university/advanced microeconomics/project/analysis/data'\n",
    "\n",
    "# file extensions\n",
    "excel_old = '.xls'\n",
    "excel = '.xlsx'\n",
    "\n",
    "# file name\n",
    "futures_data_name = '/'+'PET_PRI_FUT_S1_D'\n",
    "crude_oil_production_name = '/'+ 'Table_3.1_Petroleum_Overview'\n",
    "spot_prices_name = '/'+ 'PET_PRI_SPT_S1_D'\n",
    "\n",
    "\n",
    "# import data\n",
    "futures_data = pd.read_excel(data_location + futures_data_name + excel_old, sheet_name = 'Data 1', header = 2)\n",
    "crude_oil_production_data = pd.read_excel(data_location + crude_oil_production_name + excel, sheet_name = 'Monthly Data', header = 10)\n",
    "spot_prices_data = pd.read_excel(data_location + spot_prices_name + excel_old, sheet_name = 'Data 1', header = 2)"
   ]
  },
  {
   "cell_type": "markdown",
   "metadata": {
    "azdata_cell_guid": "0623b5f9-1fb0-4450-bd41-5b27817148a7"
   },
   "source": [
    "## Select Data"
   ]
  },
  {
   "cell_type": "markdown",
   "metadata": {
    "azdata_cell_guid": "ea6089d0-5738-439f-bd19-a386a3608375"
   },
   "source": [
    "### retrive only useful columns"
   ]
  },
  {
   "cell_type": "code",
   "execution_count": 19,
   "metadata": {},
   "outputs": [
    {
     "data": {
      "text/html": [
       "<div>\n",
       "<style scoped>\n",
       "    .dataframe tbody tr th:only-of-type {\n",
       "        vertical-align: middle;\n",
       "    }\n",
       "\n",
       "    .dataframe tbody tr th {\n",
       "        vertical-align: top;\n",
       "    }\n",
       "\n",
       "    .dataframe thead th {\n",
       "        text-align: right;\n",
       "    }\n",
       "</style>\n",
       "<table border=\"1\" class=\"dataframe\">\n",
       "  <thead>\n",
       "    <tr style=\"text-align: right;\">\n",
       "      <th></th>\n",
       "      <th>Date</th>\n",
       "      <th>Cushing, OK WTI Spot Price FOB (Dollars per Barrel)</th>\n",
       "    </tr>\n",
       "  </thead>\n",
       "  <tbody>\n",
       "    <tr>\n",
       "      <th>0</th>\n",
       "      <td>1986-01-02</td>\n",
       "      <td>25.56</td>\n",
       "    </tr>\n",
       "    <tr>\n",
       "      <th>1</th>\n",
       "      <td>1986-01-03</td>\n",
       "      <td>26.00</td>\n",
       "    </tr>\n",
       "    <tr>\n",
       "      <th>2</th>\n",
       "      <td>1986-01-06</td>\n",
       "      <td>26.53</td>\n",
       "    </tr>\n",
       "    <tr>\n",
       "      <th>3</th>\n",
       "      <td>1986-01-07</td>\n",
       "      <td>25.85</td>\n",
       "    </tr>\n",
       "    <tr>\n",
       "      <th>4</th>\n",
       "      <td>1986-01-08</td>\n",
       "      <td>25.87</td>\n",
       "    </tr>\n",
       "  </tbody>\n",
       "</table>\n",
       "</div>"
      ],
      "text/plain": [
       "        Date  Cushing, OK WTI Spot Price FOB (Dollars per Barrel)\n",
       "0 1986-01-02                                              25.56  \n",
       "1 1986-01-03                                              26.00  \n",
       "2 1986-01-06                                              26.53  \n",
       "3 1986-01-07                                              25.85  \n",
       "4 1986-01-08                                              25.87  "
      ]
     },
     "execution_count": 19,
     "metadata": {},
     "output_type": "execute_result"
    }
   ],
   "source": [
    "spot_prices_data = spot_prices_data[['Date','Cushing, OK WTI Spot Price FOB (Dollars per Barrel)']]\n",
    "spot_prices_data.head()"
   ]
  },
  {
   "cell_type": "code",
   "execution_count": 8,
   "metadata": {
    "azdata_cell_guid": "ed4ffe22-aad7-47a5-a72b-f9d3b2466cd7"
   },
   "outputs": [
    {
     "data": {
      "text/html": [
       "<div>\n",
       "<style scoped>\n",
       "    .dataframe tbody tr th:only-of-type {\n",
       "        vertical-align: middle;\n",
       "    }\n",
       "\n",
       "    .dataframe tbody tr th {\n",
       "        vertical-align: top;\n",
       "    }\n",
       "\n",
       "    .dataframe thead th {\n",
       "        text-align: right;\n",
       "    }\n",
       "</style>\n",
       "<table border=\"1\" class=\"dataframe\">\n",
       "  <thead>\n",
       "    <tr style=\"text-align: right;\">\n",
       "      <th></th>\n",
       "      <th>Month</th>\n",
       "      <th>Crude Oil Production, Total</th>\n",
       "    </tr>\n",
       "  </thead>\n",
       "  <tbody>\n",
       "    <tr>\n",
       "      <th>0</th>\n",
       "      <td>NaT</td>\n",
       "      <td>(Thousand Barrels per Day)</td>\n",
       "    </tr>\n",
       "    <tr>\n",
       "      <th>1</th>\n",
       "      <td>1973-01-01</td>\n",
       "      <td>9175.93</td>\n",
       "    </tr>\n",
       "    <tr>\n",
       "      <th>2</th>\n",
       "      <td>1973-02-01</td>\n",
       "      <td>9395.21</td>\n",
       "    </tr>\n",
       "    <tr>\n",
       "      <th>3</th>\n",
       "      <td>1973-03-01</td>\n",
       "      <td>9271.93</td>\n",
       "    </tr>\n",
       "    <tr>\n",
       "      <th>4</th>\n",
       "      <td>1973-04-01</td>\n",
       "      <td>9291.9</td>\n",
       "    </tr>\n",
       "  </tbody>\n",
       "</table>\n",
       "</div>"
      ],
      "text/plain": [
       "       Month Crude Oil Production, Total\n",
       "0        NaT  (Thousand Barrels per Day)\n",
       "1 1973-01-01                     9175.93\n",
       "2 1973-02-01                     9395.21\n",
       "3 1973-03-01                     9271.93\n",
       "4 1973-04-01                      9291.9"
      ]
     },
     "execution_count": 8,
     "metadata": {},
     "output_type": "execute_result"
    }
   ],
   "source": [
    "crude_oil_production_total = crude_oil_production_data[['Month','Crude Oil Production, Total']]\n",
    "crude_oil_production_total.head()"
   ]
  },
  {
   "cell_type": "code",
   "execution_count": 9,
   "metadata": {
    "azdata_cell_guid": "4894a852-4edb-453e-89a0-60d9c4478078"
   },
   "outputs": [
    {
     "data": {
      "text/html": [
       "<div>\n",
       "<style scoped>\n",
       "    .dataframe tbody tr th:only-of-type {\n",
       "        vertical-align: middle;\n",
       "    }\n",
       "\n",
       "    .dataframe tbody tr th {\n",
       "        vertical-align: top;\n",
       "    }\n",
       "\n",
       "    .dataframe thead th {\n",
       "        text-align: right;\n",
       "    }\n",
       "</style>\n",
       "<table border=\"1\" class=\"dataframe\">\n",
       "  <thead>\n",
       "    <tr style=\"text-align: right;\">\n",
       "      <th></th>\n",
       "      <th>Date</th>\n",
       "      <th>Cushing, OK Crude Oil Future Contract 1 (Dollars per Barrel)</th>\n",
       "      <th>Cushing, OK Crude Oil Future Contract 2 (Dollars per Barrel)</th>\n",
       "      <th>Cushing, OK Crude Oil Future Contract 3 (Dollars per Barrel)</th>\n",
       "      <th>Cushing, OK Crude Oil Future Contract 4 (Dollars per Barrel)</th>\n",
       "    </tr>\n",
       "  </thead>\n",
       "  <tbody>\n",
       "    <tr>\n",
       "      <th>0</th>\n",
       "      <td>1983-03-30</td>\n",
       "      <td>NaN</td>\n",
       "      <td>NaN</td>\n",
       "      <td>29.35</td>\n",
       "      <td>NaN</td>\n",
       "    </tr>\n",
       "    <tr>\n",
       "      <th>1</th>\n",
       "      <td>1983-03-31</td>\n",
       "      <td>NaN</td>\n",
       "      <td>NaN</td>\n",
       "      <td>29.24</td>\n",
       "      <td>NaN</td>\n",
       "    </tr>\n",
       "    <tr>\n",
       "      <th>2</th>\n",
       "      <td>1983-04-04</td>\n",
       "      <td>29.44</td>\n",
       "      <td>NaN</td>\n",
       "      <td>29.10</td>\n",
       "      <td>NaN</td>\n",
       "    </tr>\n",
       "    <tr>\n",
       "      <th>3</th>\n",
       "      <td>1983-04-05</td>\n",
       "      <td>29.71</td>\n",
       "      <td>NaN</td>\n",
       "      <td>29.35</td>\n",
       "      <td>NaN</td>\n",
       "    </tr>\n",
       "    <tr>\n",
       "      <th>4</th>\n",
       "      <td>1983-04-06</td>\n",
       "      <td>29.92</td>\n",
       "      <td>NaN</td>\n",
       "      <td>29.50</td>\n",
       "      <td>NaN</td>\n",
       "    </tr>\n",
       "  </tbody>\n",
       "</table>\n",
       "</div>"
      ],
      "text/plain": [
       "        Date  Cushing, OK Crude Oil Future Contract 1 (Dollars per Barrel)  \\\n",
       "0 1983-03-30                                                NaN              \n",
       "1 1983-03-31                                                NaN              \n",
       "2 1983-04-04                                              29.44              \n",
       "3 1983-04-05                                              29.71              \n",
       "4 1983-04-06                                              29.92              \n",
       "\n",
       "   Cushing, OK Crude Oil Future Contract 2 (Dollars per Barrel)  \\\n",
       "0                                                NaN              \n",
       "1                                                NaN              \n",
       "2                                                NaN              \n",
       "3                                                NaN              \n",
       "4                                                NaN              \n",
       "\n",
       "   Cushing, OK Crude Oil Future Contract 3 (Dollars per Barrel)  \\\n",
       "0                                              29.35              \n",
       "1                                              29.24              \n",
       "2                                              29.10              \n",
       "3                                              29.35              \n",
       "4                                              29.50              \n",
       "\n",
       "   Cushing, OK Crude Oil Future Contract 4 (Dollars per Barrel)  \n",
       "0                                                NaN             \n",
       "1                                                NaN             \n",
       "2                                                NaN             \n",
       "3                                                NaN             \n",
       "4                                                NaN             "
      ]
     },
     "execution_count": 9,
     "metadata": {},
     "output_type": "execute_result"
    }
   ],
   "source": [
    "futures_data.head()"
   ]
  },
  {
   "cell_type": "code",
   "execution_count": 10,
   "metadata": {
    "azdata_cell_guid": "b3873a29-8ef6-4efd-bf55-ff199cc2d1f2"
   },
   "outputs": [
    {
     "data": {
      "text/html": [
       "<div>\n",
       "<style scoped>\n",
       "    .dataframe tbody tr th:only-of-type {\n",
       "        vertical-align: middle;\n",
       "    }\n",
       "\n",
       "    .dataframe tbody tr th {\n",
       "        vertical-align: top;\n",
       "    }\n",
       "\n",
       "    .dataframe thead th {\n",
       "        text-align: right;\n",
       "    }\n",
       "</style>\n",
       "<table border=\"1\" class=\"dataframe\">\n",
       "  <thead>\n",
       "    <tr style=\"text-align: right;\">\n",
       "      <th></th>\n",
       "      <th>Date</th>\n",
       "      <th>Cushing, OK Crude Oil Future Contract 4 (Dollars per Barrel)</th>\n",
       "    </tr>\n",
       "  </thead>\n",
       "  <tbody>\n",
       "    <tr>\n",
       "      <th>0</th>\n",
       "      <td>1983-03-30</td>\n",
       "      <td>NaN</td>\n",
       "    </tr>\n",
       "    <tr>\n",
       "      <th>1</th>\n",
       "      <td>1983-03-31</td>\n",
       "      <td>NaN</td>\n",
       "    </tr>\n",
       "    <tr>\n",
       "      <th>2</th>\n",
       "      <td>1983-04-04</td>\n",
       "      <td>NaN</td>\n",
       "    </tr>\n",
       "    <tr>\n",
       "      <th>3</th>\n",
       "      <td>1983-04-05</td>\n",
       "      <td>NaN</td>\n",
       "    </tr>\n",
       "    <tr>\n",
       "      <th>4</th>\n",
       "      <td>1983-04-06</td>\n",
       "      <td>NaN</td>\n",
       "    </tr>\n",
       "    <tr>\n",
       "      <th>...</th>\n",
       "      <td>...</td>\n",
       "      <td>...</td>\n",
       "    </tr>\n",
       "    <tr>\n",
       "      <th>9514</th>\n",
       "      <td>2021-02-17</td>\n",
       "      <td>60.18</td>\n",
       "    </tr>\n",
       "    <tr>\n",
       "      <th>9515</th>\n",
       "      <td>2021-02-18</td>\n",
       "      <td>59.67</td>\n",
       "    </tr>\n",
       "    <tr>\n",
       "      <th>9516</th>\n",
       "      <td>2021-02-19</td>\n",
       "      <td>58.66</td>\n",
       "    </tr>\n",
       "    <tr>\n",
       "      <th>9517</th>\n",
       "      <td>2021-02-22</td>\n",
       "      <td>60.90</td>\n",
       "    </tr>\n",
       "    <tr>\n",
       "      <th>9518</th>\n",
       "      <td>2021-02-23</td>\n",
       "      <td>60.37</td>\n",
       "    </tr>\n",
       "  </tbody>\n",
       "</table>\n",
       "<p>9519 rows × 2 columns</p>\n",
       "</div>"
      ],
      "text/plain": [
       "           Date  Cushing, OK Crude Oil Future Contract 4 (Dollars per Barrel)\n",
       "0    1983-03-30                                                NaN           \n",
       "1    1983-03-31                                                NaN           \n",
       "2    1983-04-04                                                NaN           \n",
       "3    1983-04-05                                                NaN           \n",
       "4    1983-04-06                                                NaN           \n",
       "...         ...                                                ...           \n",
       "9514 2021-02-17                                              60.18           \n",
       "9515 2021-02-18                                              59.67           \n",
       "9516 2021-02-19                                              58.66           \n",
       "9517 2021-02-22                                              60.90           \n",
       "9518 2021-02-23                                              60.37           \n",
       "\n",
       "[9519 rows x 2 columns]"
      ]
     },
     "execution_count": 10,
     "metadata": {},
     "output_type": "execute_result"
    }
   ],
   "source": [
    "futures_3_months = futures_data[['Date','Cushing, OK Crude Oil Future Contract 4 (Dollars per Barrel)']]\n",
    "futures_3_months"
   ]
  },
  {
   "cell_type": "markdown",
   "metadata": {
    "azdata_cell_guid": "b362e181-78a2-4d75-b7f2-bbc45670bd1f"
   },
   "source": [
    "### retrieve only useful timespan"
   ]
  },
  {
   "cell_type": "code",
   "execution_count": 11,
   "metadata": {
    "azdata_cell_guid": "fdf9402c-3f36-4848-92b4-962f60741e04"
   },
   "outputs": [
    {
     "data": {
      "text/plain": [
       "Date                                                            datetime64[ns]\n",
       "Cushing, OK Crude Oil Future Contract 4 (Dollars per Barrel)           float64\n",
       "dtype: object"
      ]
     },
     "execution_count": 11,
     "metadata": {},
     "output_type": "execute_result"
    }
   ],
   "source": [
    "futures_3_months.dtypes"
   ]
  },
  {
   "cell_type": "code",
   "execution_count": 12,
   "metadata": {
    "azdata_cell_guid": "10e9f5de-3627-47d1-8cc7-bda6b3e129d3"
   },
   "outputs": [
    {
     "data": {
      "text/html": [
       "<div>\n",
       "<style scoped>\n",
       "    .dataframe tbody tr th:only-of-type {\n",
       "        vertical-align: middle;\n",
       "    }\n",
       "\n",
       "    .dataframe tbody tr th {\n",
       "        vertical-align: top;\n",
       "    }\n",
       "\n",
       "    .dataframe thead th {\n",
       "        text-align: right;\n",
       "    }\n",
       "</style>\n",
       "<table border=\"1\" class=\"dataframe\">\n",
       "  <thead>\n",
       "    <tr style=\"text-align: right;\">\n",
       "      <th></th>\n",
       "      <th>Month</th>\n",
       "      <th>Crude Oil Production, Total</th>\n",
       "    </tr>\n",
       "  </thead>\n",
       "  <tbody>\n",
       "    <tr>\n",
       "      <th>555</th>\n",
       "      <td>2019-03-01</td>\n",
       "      <td>11937.3</td>\n",
       "    </tr>\n",
       "    <tr>\n",
       "      <th>556</th>\n",
       "      <td>2019-04-01</td>\n",
       "      <td>12134.7</td>\n",
       "    </tr>\n",
       "    <tr>\n",
       "      <th>557</th>\n",
       "      <td>2019-05-01</td>\n",
       "      <td>12163.2</td>\n",
       "    </tr>\n",
       "    <tr>\n",
       "      <th>558</th>\n",
       "      <td>2019-06-01</td>\n",
       "      <td>12087.5</td>\n",
       "    </tr>\n",
       "    <tr>\n",
       "      <th>559</th>\n",
       "      <td>2019-07-01</td>\n",
       "      <td>11819.1</td>\n",
       "    </tr>\n",
       "    <tr>\n",
       "      <th>560</th>\n",
       "      <td>2019-08-01</td>\n",
       "      <td>12424.8</td>\n",
       "    </tr>\n",
       "    <tr>\n",
       "      <th>561</th>\n",
       "      <td>2019-09-01</td>\n",
       "      <td>12495.2</td>\n",
       "    </tr>\n",
       "    <tr>\n",
       "      <th>562</th>\n",
       "      <td>2019-10-01</td>\n",
       "      <td>12672.6</td>\n",
       "    </tr>\n",
       "    <tr>\n",
       "      <th>563</th>\n",
       "      <td>2019-11-01</td>\n",
       "      <td>12859.8</td>\n",
       "    </tr>\n",
       "    <tr>\n",
       "      <th>564</th>\n",
       "      <td>2019-12-01</td>\n",
       "      <td>12802.1</td>\n",
       "    </tr>\n",
       "    <tr>\n",
       "      <th>565</th>\n",
       "      <td>2020-01-01</td>\n",
       "      <td>12754.8</td>\n",
       "    </tr>\n",
       "    <tr>\n",
       "      <th>566</th>\n",
       "      <td>2020-02-01</td>\n",
       "      <td>12745.6</td>\n",
       "    </tr>\n",
       "    <tr>\n",
       "      <th>567</th>\n",
       "      <td>2020-03-01</td>\n",
       "      <td>12737.1</td>\n",
       "    </tr>\n",
       "    <tr>\n",
       "      <th>568</th>\n",
       "      <td>2020-04-01</td>\n",
       "      <td>12010</td>\n",
       "    </tr>\n",
       "    <tr>\n",
       "      <th>569</th>\n",
       "      <td>2020-05-01</td>\n",
       "      <td>10018.8</td>\n",
       "    </tr>\n",
       "    <tr>\n",
       "      <th>570</th>\n",
       "      <td>2020-06-01</td>\n",
       "      <td>10442.1</td>\n",
       "    </tr>\n",
       "    <tr>\n",
       "      <th>571</th>\n",
       "      <td>2020-07-01</td>\n",
       "      <td>10972.7</td>\n",
       "    </tr>\n",
       "    <tr>\n",
       "      <th>572</th>\n",
       "      <td>2020-08-01</td>\n",
       "      <td>10583.8</td>\n",
       "    </tr>\n",
       "    <tr>\n",
       "      <th>573</th>\n",
       "      <td>2020-09-01</td>\n",
       "      <td>10870.5</td>\n",
       "    </tr>\n",
       "    <tr>\n",
       "      <th>574</th>\n",
       "      <td>2020-10-01</td>\n",
       "      <td>10431.8</td>\n",
       "    </tr>\n",
       "    <tr>\n",
       "      <th>575</th>\n",
       "      <td>2020-11-01</td>\n",
       "      <td>11124</td>\n",
       "    </tr>\n",
       "    <tr>\n",
       "      <th>576</th>\n",
       "      <td>2020-12-01</td>\n",
       "      <td>11009.7</td>\n",
       "    </tr>\n",
       "    <tr>\n",
       "      <th>577</th>\n",
       "      <td>2021-01-01</td>\n",
       "      <td>10954.8</td>\n",
       "    </tr>\n",
       "  </tbody>\n",
       "</table>\n",
       "</div>"
      ],
      "text/plain": [
       "         Month Crude Oil Production, Total\n",
       "555 2019-03-01                     11937.3\n",
       "556 2019-04-01                     12134.7\n",
       "557 2019-05-01                     12163.2\n",
       "558 2019-06-01                     12087.5\n",
       "559 2019-07-01                     11819.1\n",
       "560 2019-08-01                     12424.8\n",
       "561 2019-09-01                     12495.2\n",
       "562 2019-10-01                     12672.6\n",
       "563 2019-11-01                     12859.8\n",
       "564 2019-12-01                     12802.1\n",
       "565 2020-01-01                     12754.8\n",
       "566 2020-02-01                     12745.6\n",
       "567 2020-03-01                     12737.1\n",
       "568 2020-04-01                       12010\n",
       "569 2020-05-01                     10018.8\n",
       "570 2020-06-01                     10442.1\n",
       "571 2020-07-01                     10972.7\n",
       "572 2020-08-01                     10583.8\n",
       "573 2020-09-01                     10870.5\n",
       "574 2020-10-01                     10431.8\n",
       "575 2020-11-01                       11124\n",
       "576 2020-12-01                     11009.7\n",
       "577 2021-01-01                     10954.8"
      ]
     },
     "execution_count": 12,
     "metadata": {},
     "output_type": "execute_result"
    }
   ],
   "source": [
    "start_date = pd.to_datetime('2019-02-23', utc= False)\n",
    "end_date = pd.to_datetime('2021-02-23', utc= False)\n",
    "crude_oil_production_total[(crude_oil_production_total['Month'] > start_date) & (crude_oil_production_total['Month'] <= end_date)]"
   ]
  },
  {
   "cell_type": "code",
   "execution_count": 14,
   "metadata": {},
   "outputs": [
    {
     "data": {
      "text/plain": [
       "(578, 2)"
      ]
     },
     "execution_count": 14,
     "metadata": {},
     "output_type": "execute_result"
    }
   ],
   "source": [
    "crude_oil_production_total.shape"
   ]
  },
  {
   "cell_type": "code",
   "execution_count": 13,
   "metadata": {
    "azdata_cell_guid": "c2ca4494-2712-4ad9-ae83-cf9e4744b688"
   },
   "outputs": [
    {
     "data": {
      "text/html": [
       "<div>\n",
       "<style scoped>\n",
       "    .dataframe tbody tr th:only-of-type {\n",
       "        vertical-align: middle;\n",
       "    }\n",
       "\n",
       "    .dataframe tbody tr th {\n",
       "        vertical-align: top;\n",
       "    }\n",
       "\n",
       "    .dataframe thead th {\n",
       "        text-align: right;\n",
       "    }\n",
       "</style>\n",
       "<table border=\"1\" class=\"dataframe\">\n",
       "  <thead>\n",
       "    <tr style=\"text-align: right;\">\n",
       "      <th></th>\n",
       "      <th>Date</th>\n",
       "      <th>Cushing, OK Crude Oil Future Contract 4 (Dollars per Barrel)</th>\n",
       "    </tr>\n",
       "  </thead>\n",
       "  <tbody>\n",
       "    <tr>\n",
       "      <th>9015</th>\n",
       "      <td>2019-02-25</td>\n",
       "      <td>56.88</td>\n",
       "    </tr>\n",
       "    <tr>\n",
       "      <th>9016</th>\n",
       "      <td>2019-02-26</td>\n",
       "      <td>57.01</td>\n",
       "    </tr>\n",
       "    <tr>\n",
       "      <th>9017</th>\n",
       "      <td>2019-02-27</td>\n",
       "      <td>58.33</td>\n",
       "    </tr>\n",
       "    <tr>\n",
       "      <th>9018</th>\n",
       "      <td>2019-02-28</td>\n",
       "      <td>58.49</td>\n",
       "    </tr>\n",
       "    <tr>\n",
       "      <th>9019</th>\n",
       "      <td>2019-03-01</td>\n",
       "      <td>57.11</td>\n",
       "    </tr>\n",
       "    <tr>\n",
       "      <th>...</th>\n",
       "      <td>...</td>\n",
       "      <td>...</td>\n",
       "    </tr>\n",
       "    <tr>\n",
       "      <th>9514</th>\n",
       "      <td>2021-02-17</td>\n",
       "      <td>60.18</td>\n",
       "    </tr>\n",
       "    <tr>\n",
       "      <th>9515</th>\n",
       "      <td>2021-02-18</td>\n",
       "      <td>59.67</td>\n",
       "    </tr>\n",
       "    <tr>\n",
       "      <th>9516</th>\n",
       "      <td>2021-02-19</td>\n",
       "      <td>58.66</td>\n",
       "    </tr>\n",
       "    <tr>\n",
       "      <th>9517</th>\n",
       "      <td>2021-02-22</td>\n",
       "      <td>60.90</td>\n",
       "    </tr>\n",
       "    <tr>\n",
       "      <th>9518</th>\n",
       "      <td>2021-02-23</td>\n",
       "      <td>60.37</td>\n",
       "    </tr>\n",
       "  </tbody>\n",
       "</table>\n",
       "<p>504 rows × 2 columns</p>\n",
       "</div>"
      ],
      "text/plain": [
       "           Date  Cushing, OK Crude Oil Future Contract 4 (Dollars per Barrel)\n",
       "9015 2019-02-25                                              56.88           \n",
       "9016 2019-02-26                                              57.01           \n",
       "9017 2019-02-27                                              58.33           \n",
       "9018 2019-02-28                                              58.49           \n",
       "9019 2019-03-01                                              57.11           \n",
       "...         ...                                                ...           \n",
       "9514 2021-02-17                                              60.18           \n",
       "9515 2021-02-18                                              59.67           \n",
       "9516 2021-02-19                                              58.66           \n",
       "9517 2021-02-22                                              60.90           \n",
       "9518 2021-02-23                                              60.37           \n",
       "\n",
       "[504 rows x 2 columns]"
      ]
     },
     "execution_count": 13,
     "metadata": {},
     "output_type": "execute_result"
    }
   ],
   "source": [
    "start_date = pd.to_datetime('2019-02-23', utc= False)\n",
    "end_date = pd.to_datetime('2021-02-23', utc= False)\n",
    "futures_3_months[(futures_3_months['Date'] > start_date) & (futures_3_months['Date'] <= end_date)]"
   ]
  },
  {
   "cell_type": "markdown",
   "metadata": {},
   "source": [
    "## merge"
   ]
  },
  {
   "cell_type": "code",
   "execution_count": 66,
   "metadata": {},
   "outputs": [
    {
     "data": {
      "text/html": [
       "<div>\n",
       "<style scoped>\n",
       "    .dataframe tbody tr th:only-of-type {\n",
       "        vertical-align: middle;\n",
       "    }\n",
       "\n",
       "    .dataframe tbody tr th {\n",
       "        vertical-align: top;\n",
       "    }\n",
       "\n",
       "    .dataframe thead th {\n",
       "        text-align: right;\n",
       "    }\n",
       "</style>\n",
       "<table border=\"1\" class=\"dataframe\">\n",
       "  <thead>\n",
       "    <tr style=\"text-align: right;\">\n",
       "      <th></th>\n",
       "      <th>Date</th>\n",
       "      <th>Cushing, OK WTI Spot Price FOB (Dollars per Barrel)</th>\n",
       "      <th>Cushing, OK Crude Oil Future Contract 4 (Dollars per Barrel)</th>\n",
       "    </tr>\n",
       "  </thead>\n",
       "  <tbody>\n",
       "    <tr>\n",
       "      <th>0</th>\n",
       "      <td>1986-01-02</td>\n",
       "      <td>25.56</td>\n",
       "      <td>23.21</td>\n",
       "    </tr>\n",
       "    <tr>\n",
       "      <th>1</th>\n",
       "      <td>1986-01-03</td>\n",
       "      <td>26.00</td>\n",
       "      <td>23.62</td>\n",
       "    </tr>\n",
       "    <tr>\n",
       "      <th>2</th>\n",
       "      <td>1986-01-06</td>\n",
       "      <td>26.53</td>\n",
       "      <td>24.18</td>\n",
       "    </tr>\n",
       "    <tr>\n",
       "      <th>3</th>\n",
       "      <td>1986-01-07</td>\n",
       "      <td>25.85</td>\n",
       "      <td>23.75</td>\n",
       "    </tr>\n",
       "    <tr>\n",
       "      <th>4</th>\n",
       "      <td>1986-01-08</td>\n",
       "      <td>25.87</td>\n",
       "      <td>23.40</td>\n",
       "    </tr>\n",
       "  </tbody>\n",
       "</table>\n",
       "</div>"
      ],
      "text/plain": [
       "        Date  Cushing, OK WTI Spot Price FOB (Dollars per Barrel)  \\\n",
       "0 1986-01-02                                              25.56     \n",
       "1 1986-01-03                                              26.00     \n",
       "2 1986-01-06                                              26.53     \n",
       "3 1986-01-07                                              25.85     \n",
       "4 1986-01-08                                              25.87     \n",
       "\n",
       "   Cushing, OK Crude Oil Future Contract 4 (Dollars per Barrel)  \n",
       "0                                              23.21             \n",
       "1                                              23.62             \n",
       "2                                              24.18             \n",
       "3                                              23.75             \n",
       "4                                              23.40             "
      ]
     },
     "execution_count": 66,
     "metadata": {},
     "output_type": "execute_result"
    }
   ],
   "source": [
    "merged_dataframe = spot_prices_data.merge(futures_3_months,how='left', on = 'Date')\n",
    "merged_dataframe.head()"
   ]
  },
  {
   "cell_type": "code",
   "execution_count": 67,
   "metadata": {},
   "outputs": [
    {
     "data": {
      "text/plain": [
       "False    8817\n",
       "True      179\n",
       "Name: Cushing, OK Crude Oil Future Contract 4 (Dollars per Barrel), dtype: int64"
      ]
     },
     "execution_count": 67,
     "metadata": {},
     "output_type": "execute_result"
    }
   ],
   "source": [
    "merged_dataframe['Cushing, OK Crude Oil Future Contract 4 (Dollars per Barrel)'].isna().value_counts()"
   ]
  },
  {
   "cell_type": "code",
   "execution_count": 68,
   "metadata": {},
   "outputs": [
    {
     "name": "stderr",
     "output_type": "stream",
     "text": [
      "C:\\Users\\User\\anaconda3\\lib\\site-packages\\pandas\\core\\series.py:679: RuntimeWarning: invalid value encountered in log\n",
      "  result = getattr(ufunc, method)(*inputs, **kwargs)\n"
     ]
    },
    {
     "data": {
      "text/html": [
       "<div>\n",
       "<style scoped>\n",
       "    .dataframe tbody tr th:only-of-type {\n",
       "        vertical-align: middle;\n",
       "    }\n",
       "\n",
       "    .dataframe tbody tr th {\n",
       "        vertical-align: top;\n",
       "    }\n",
       "\n",
       "    .dataframe thead th {\n",
       "        text-align: right;\n",
       "    }\n",
       "</style>\n",
       "<table border=\"1\" class=\"dataframe\">\n",
       "  <thead>\n",
       "    <tr style=\"text-align: right;\">\n",
       "      <th></th>\n",
       "      <th>Date</th>\n",
       "      <th>Cushing, OK WTI Spot Price FOB (Dollars per Barrel)</th>\n",
       "      <th>Cushing, OK Crude Oil Future Contract 4 (Dollars per Barrel)</th>\n",
       "      <th>Log Spot Prices</th>\n",
       "    </tr>\n",
       "  </thead>\n",
       "  <tbody>\n",
       "    <tr>\n",
       "      <th>0</th>\n",
       "      <td>1986-01-02</td>\n",
       "      <td>25.56</td>\n",
       "      <td>23.21</td>\n",
       "      <td>3.241029</td>\n",
       "    </tr>\n",
       "    <tr>\n",
       "      <th>1</th>\n",
       "      <td>1986-01-03</td>\n",
       "      <td>26.00</td>\n",
       "      <td>23.62</td>\n",
       "      <td>3.258097</td>\n",
       "    </tr>\n",
       "    <tr>\n",
       "      <th>2</th>\n",
       "      <td>1986-01-06</td>\n",
       "      <td>26.53</td>\n",
       "      <td>24.18</td>\n",
       "      <td>3.278276</td>\n",
       "    </tr>\n",
       "    <tr>\n",
       "      <th>3</th>\n",
       "      <td>1986-01-07</td>\n",
       "      <td>25.85</td>\n",
       "      <td>23.75</td>\n",
       "      <td>3.252311</td>\n",
       "    </tr>\n",
       "    <tr>\n",
       "      <th>4</th>\n",
       "      <td>1986-01-08</td>\n",
       "      <td>25.87</td>\n",
       "      <td>23.40</td>\n",
       "      <td>3.253084</td>\n",
       "    </tr>\n",
       "  </tbody>\n",
       "</table>\n",
       "</div>"
      ],
      "text/plain": [
       "        Date  Cushing, OK WTI Spot Price FOB (Dollars per Barrel)  \\\n",
       "0 1986-01-02                                              25.56     \n",
       "1 1986-01-03                                              26.00     \n",
       "2 1986-01-06                                              26.53     \n",
       "3 1986-01-07                                              25.85     \n",
       "4 1986-01-08                                              25.87     \n",
       "\n",
       "   Cushing, OK Crude Oil Future Contract 4 (Dollars per Barrel)  \\\n",
       "0                                              23.21              \n",
       "1                                              23.62              \n",
       "2                                              24.18              \n",
       "3                                              23.75              \n",
       "4                                              23.40              \n",
       "\n",
       "   Log Spot Prices  \n",
       "0         3.241029  \n",
       "1         3.258097  \n",
       "2         3.278276  \n",
       "3         3.252311  \n",
       "4         3.253084  "
      ]
     },
     "execution_count": 68,
     "metadata": {},
     "output_type": "execute_result"
    }
   ],
   "source": [
    "merged_dataframe['Log Spot Prices'] = np.log(merged_dataframe['Cushing, OK WTI Spot Price FOB (Dollars per Barrel)'])\n",
    "merged_dataframe.head()"
   ]
  },
  {
   "cell_type": "code",
   "execution_count": 69,
   "metadata": {},
   "outputs": [
    {
     "data": {
      "text/html": [
       "<div>\n",
       "<style scoped>\n",
       "    .dataframe tbody tr th:only-of-type {\n",
       "        vertical-align: middle;\n",
       "    }\n",
       "\n",
       "    .dataframe tbody tr th {\n",
       "        vertical-align: top;\n",
       "    }\n",
       "\n",
       "    .dataframe thead th {\n",
       "        text-align: right;\n",
       "    }\n",
       "</style>\n",
       "<table border=\"1\" class=\"dataframe\">\n",
       "  <thead>\n",
       "    <tr style=\"text-align: right;\">\n",
       "      <th></th>\n",
       "      <th>Date</th>\n",
       "      <th>Cushing, OK WTI Spot Price FOB (Dollars per Barrel)</th>\n",
       "      <th>Cushing, OK Crude Oil Future Contract 4 (Dollars per Barrel)</th>\n",
       "      <th>Log Spot Prices</th>\n",
       "      <th>Log Futures Prices</th>\n",
       "    </tr>\n",
       "  </thead>\n",
       "  <tbody>\n",
       "    <tr>\n",
       "      <th>0</th>\n",
       "      <td>1986-01-02</td>\n",
       "      <td>25.56</td>\n",
       "      <td>23.21</td>\n",
       "      <td>3.241029</td>\n",
       "      <td>3.144583</td>\n",
       "    </tr>\n",
       "    <tr>\n",
       "      <th>1</th>\n",
       "      <td>1986-01-03</td>\n",
       "      <td>26.00</td>\n",
       "      <td>23.62</td>\n",
       "      <td>3.258097</td>\n",
       "      <td>3.162094</td>\n",
       "    </tr>\n",
       "    <tr>\n",
       "      <th>2</th>\n",
       "      <td>1986-01-06</td>\n",
       "      <td>26.53</td>\n",
       "      <td>24.18</td>\n",
       "      <td>3.278276</td>\n",
       "      <td>3.185526</td>\n",
       "    </tr>\n",
       "    <tr>\n",
       "      <th>3</th>\n",
       "      <td>1986-01-07</td>\n",
       "      <td>25.85</td>\n",
       "      <td>23.75</td>\n",
       "      <td>3.252311</td>\n",
       "      <td>3.167583</td>\n",
       "    </tr>\n",
       "    <tr>\n",
       "      <th>4</th>\n",
       "      <td>1986-01-08</td>\n",
       "      <td>25.87</td>\n",
       "      <td>23.40</td>\n",
       "      <td>3.253084</td>\n",
       "      <td>3.152736</td>\n",
       "    </tr>\n",
       "  </tbody>\n",
       "</table>\n",
       "</div>"
      ],
      "text/plain": [
       "        Date  Cushing, OK WTI Spot Price FOB (Dollars per Barrel)  \\\n",
       "0 1986-01-02                                              25.56     \n",
       "1 1986-01-03                                              26.00     \n",
       "2 1986-01-06                                              26.53     \n",
       "3 1986-01-07                                              25.85     \n",
       "4 1986-01-08                                              25.87     \n",
       "\n",
       "   Cushing, OK Crude Oil Future Contract 4 (Dollars per Barrel)  \\\n",
       "0                                              23.21              \n",
       "1                                              23.62              \n",
       "2                                              24.18              \n",
       "3                                              23.75              \n",
       "4                                              23.40              \n",
       "\n",
       "   Log Spot Prices  Log Futures Prices  \n",
       "0         3.241029            3.144583  \n",
       "1         3.258097            3.162094  \n",
       "2         3.278276            3.185526  \n",
       "3         3.252311            3.167583  \n",
       "4         3.253084            3.152736  "
      ]
     },
     "execution_count": 69,
     "metadata": {},
     "output_type": "execute_result"
    }
   ],
   "source": [
    "merged_dataframe['Log Futures Prices'] = np.log(merged_dataframe['Cushing, OK Crude Oil Future Contract 4 (Dollars per Barrel)'])\n",
    "merged_dataframe.head()"
   ]
  },
  {
   "cell_type": "code",
   "execution_count": 70,
   "metadata": {},
   "outputs": [
    {
     "data": {
      "text/html": [
       "<div>\n",
       "<style scoped>\n",
       "    .dataframe tbody tr th:only-of-type {\n",
       "        vertical-align: middle;\n",
       "    }\n",
       "\n",
       "    .dataframe tbody tr th {\n",
       "        vertical-align: top;\n",
       "    }\n",
       "\n",
       "    .dataframe thead th {\n",
       "        text-align: right;\n",
       "    }\n",
       "</style>\n",
       "<table border=\"1\" class=\"dataframe\">\n",
       "  <thead>\n",
       "    <tr style=\"text-align: right;\">\n",
       "      <th></th>\n",
       "      <th>Date</th>\n",
       "      <th>Cushing, OK WTI Spot Price FOB (Dollars per Barrel)</th>\n",
       "      <th>Cushing, OK Crude Oil Future Contract 4 (Dollars per Barrel)</th>\n",
       "      <th>Log Spot Prices</th>\n",
       "      <th>Log Futures Prices</th>\n",
       "      <th>diff log spot prices</th>\n",
       "      <th>diff log futures prices</th>\n",
       "    </tr>\n",
       "  </thead>\n",
       "  <tbody>\n",
       "    <tr>\n",
       "      <th>0</th>\n",
       "      <td>1986-01-02</td>\n",
       "      <td>25.56</td>\n",
       "      <td>23.21</td>\n",
       "      <td>3.241029</td>\n",
       "      <td>3.144583</td>\n",
       "      <td>NaN</td>\n",
       "      <td>NaN</td>\n",
       "    </tr>\n",
       "    <tr>\n",
       "      <th>1</th>\n",
       "      <td>1986-01-03</td>\n",
       "      <td>26.00</td>\n",
       "      <td>23.62</td>\n",
       "      <td>3.258097</td>\n",
       "      <td>3.162094</td>\n",
       "      <td>0.017068</td>\n",
       "      <td>0.017511</td>\n",
       "    </tr>\n",
       "    <tr>\n",
       "      <th>2</th>\n",
       "      <td>1986-01-06</td>\n",
       "      <td>26.53</td>\n",
       "      <td>24.18</td>\n",
       "      <td>3.278276</td>\n",
       "      <td>3.185526</td>\n",
       "      <td>0.020180</td>\n",
       "      <td>0.023432</td>\n",
       "    </tr>\n",
       "    <tr>\n",
       "      <th>3</th>\n",
       "      <td>1986-01-07</td>\n",
       "      <td>25.85</td>\n",
       "      <td>23.75</td>\n",
       "      <td>3.252311</td>\n",
       "      <td>3.167583</td>\n",
       "      <td>-0.025966</td>\n",
       "      <td>-0.017943</td>\n",
       "    </tr>\n",
       "    <tr>\n",
       "      <th>4</th>\n",
       "      <td>1986-01-08</td>\n",
       "      <td>25.87</td>\n",
       "      <td>23.40</td>\n",
       "      <td>3.253084</td>\n",
       "      <td>3.152736</td>\n",
       "      <td>0.000773</td>\n",
       "      <td>-0.014847</td>\n",
       "    </tr>\n",
       "  </tbody>\n",
       "</table>\n",
       "</div>"
      ],
      "text/plain": [
       "        Date  Cushing, OK WTI Spot Price FOB (Dollars per Barrel)  \\\n",
       "0 1986-01-02                                              25.56     \n",
       "1 1986-01-03                                              26.00     \n",
       "2 1986-01-06                                              26.53     \n",
       "3 1986-01-07                                              25.85     \n",
       "4 1986-01-08                                              25.87     \n",
       "\n",
       "   Cushing, OK Crude Oil Future Contract 4 (Dollars per Barrel)  \\\n",
       "0                                              23.21              \n",
       "1                                              23.62              \n",
       "2                                              24.18              \n",
       "3                                              23.75              \n",
       "4                                              23.40              \n",
       "\n",
       "   Log Spot Prices  Log Futures Prices  diff log spot prices  \\\n",
       "0         3.241029            3.144583                   NaN   \n",
       "1         3.258097            3.162094              0.017068   \n",
       "2         3.278276            3.185526              0.020180   \n",
       "3         3.252311            3.167583             -0.025966   \n",
       "4         3.253084            3.152736              0.000773   \n",
       "\n",
       "   diff log futures prices  \n",
       "0                      NaN  \n",
       "1                 0.017511  \n",
       "2                 0.023432  \n",
       "3                -0.017943  \n",
       "4                -0.014847  "
      ]
     },
     "execution_count": 70,
     "metadata": {},
     "output_type": "execute_result"
    }
   ],
   "source": [
    "merged_dataframe['diff log spot prices'] = merged_dataframe['Log Spot Prices'].diff()\n",
    "merged_dataframe['diff log futures prices'] = merged_dataframe['Log Futures Prices'].diff()\n",
    "merged_dataframe.head()"
   ]
  },
  {
   "cell_type": "markdown",
   "metadata": {},
   "source": [
    "## VAR"
   ]
  },
  {
   "cell_type": "code",
   "execution_count": 71,
   "metadata": {},
   "outputs": [],
   "source": [
    "import matplotlib.pyplot as plt\n",
    "%matplotlib inline\n",
    "\n",
    "# Import Statsmodels\n",
    "from statsmodels.tsa.api import VAR\n",
    "from statsmodels.tsa.stattools import adfuller\n",
    "from statsmodels.tools.eval_measures import rmse, aic"
   ]
  },
  {
   "cell_type": "code",
   "execution_count": 72,
   "metadata": {},
   "outputs": [
    {
     "data": {
      "image/png": "[encoded data removed]",
      "text/plain": [
       "<Figure size 1200x720 with 6 Axes>"
      ]
     },
     "metadata": {
      "needs_background": "light"
     },
     "output_type": "display_data"
    }
   ],
   "source": [
    "# Plot\n",
    "merged_dataframe_clean=merged_dataframe[['Log Spot Prices','Log Futures Prices','Cushing, OK WTI Spot Price FOB (Dollars per Barrel)','Cushing, OK Crude Oil Future Contract 4 (Dollars per Barrel)','diff log spot prices','diff log futures prices']]\n",
    "fig, axes = plt.subplots(nrows=3, ncols=2, dpi=120, figsize=(10,6))\n",
    "for i, ax in enumerate(axes.flatten()):\n",
    "    data = merged_dataframe_clean[merged_dataframe_clean.columns[i]]\n",
    "    ax.plot(data, color='red', linewidth=1)\n",
    "    # Decorations\n",
    "    ax.set_title(merged_dataframe_clean.columns[i])\n",
    "    ax.xaxis.set_ticks_position('none')\n",
    "    ax.yaxis.set_ticks_position('none')\n",
    "    ax.spines[\"top\"].set_alpha(0)\n",
    "    ax.tick_params(labelsize=6)\n",
    "\n",
    "plt.tight_layout();"
   ]
  },
  {
   "cell_type": "code",
   "execution_count": 74,
   "metadata": {},
   "outputs": [
    {
     "name": "stderr",
     "output_type": "stream",
     "text": [
      "C:\\Users\\User\\anaconda3\\lib\\site-packages\\statsmodels\\tsa\\base\\tsa_model.py:214: ValueWarning: An unsupported index was provided and will be ignored when e.g. forecasting.\n",
      "  ' ignored when e.g. forecasting.', ValueWarning)\n"
     ]
    },
    {
     "data": {
      "text/plain": [
       "  Summary of Regression Results   \n",
       "==================================\n",
       "Model:                         VAR\n",
       "Method:                        OLS\n",
       "Date:           Sat, 06, Mar, 2021\n",
       "Time:                     17:10:13\n",
       "--------------------------------------------------------------------\n",
       "No. of Equations:         2.00000    BIC:                   -16.1983\n",
       "Nobs:                     8995.00    HQIC:                  -16.1993\n",
       "Log likelihood:           47334.2    FPE:                9.21476e-08\n",
       "AIC:                     -16.1999    Det(Omega_mle):     9.21271e-08\n",
       "--------------------------------------------------------------------\n",
       "Results for equation diff log spot prices\n",
       "========================================================================\n",
       "           coefficient       std. error           t-stat            prob\n",
       "------------------------------------------------------------------------\n",
       "const         0.000250         0.000285            0.878           0.380\n",
       "========================================================================\n",
       "\n",
       "Results for equation diff log futures prices\n",
       "========================================================================\n",
       "           coefficient       std. error           t-stat            prob\n",
       "------------------------------------------------------------------------\n",
       "const         0.000194         0.000215            0.899           0.369\n",
       "========================================================================\n",
       "\n",
       "Correlation matrix of residuals\n",
       "                           diff log spot prices  diff log futures prices\n",
       "diff log spot prices                   1.000000                 0.835249\n",
       "diff log futures prices                0.835249                 1.000000\n",
       "\n"
      ]
     },
     "execution_count": 74,
     "metadata": {},
     "output_type": "execute_result"
    }
   ],
   "source": [
    "df_model =merged_dataframe_clean[['diff log spot prices','diff log futures prices']]\n",
    "df_model = df_model.fillna(method = 'ffill').iloc[1:]\n",
    "model = VAR(df_model)\n",
    "result = model.fit(0)\n",
    "result.summary()"
   ]
  },
  {
   "cell_type": "code",
   "execution_count": 64,
   "metadata": {},
   "outputs": [
    {
     "data": {
      "text/html": [
       "<div>\n",
       "<style scoped>\n",
       "    .dataframe tbody tr th:only-of-type {\n",
       "        vertical-align: middle;\n",
       "    }\n",
       "\n",
       "    .dataframe tbody tr th {\n",
       "        vertical-align: top;\n",
       "    }\n",
       "\n",
       "    .dataframe thead th {\n",
       "        text-align: right;\n",
       "    }\n",
       "</style>\n",
       "<table border=\"1\" class=\"dataframe\">\n",
       "  <thead>\n",
       "    <tr style=\"text-align: right;\">\n",
       "      <th></th>\n",
       "      <th>diff log spot prices</th>\n",
       "      <th>diff log futures prices</th>\n",
       "    </tr>\n",
       "  </thead>\n",
       "  <tbody>\n",
       "    <tr>\n",
       "      <th>8991</th>\n",
       "      <td>0.936093</td>\n",
       "      <td>0.806476</td>\n",
       "    </tr>\n",
       "    <tr>\n",
       "      <th>8992</th>\n",
       "      <td>0.438255</td>\n",
       "      <td>0.806476</td>\n",
       "    </tr>\n",
       "    <tr>\n",
       "      <th>8993</th>\n",
       "      <td>-1.514128</td>\n",
       "      <td>0.806476</td>\n",
       "    </tr>\n",
       "    <tr>\n",
       "      <th>8994</th>\n",
       "      <td>-1.514128</td>\n",
       "      <td>0.806476</td>\n",
       "    </tr>\n",
       "    <tr>\n",
       "      <th>8995</th>\n",
       "      <td>-1.514128</td>\n",
       "      <td>0.806476</td>\n",
       "    </tr>\n",
       "  </tbody>\n",
       "</table>\n",
       "</div>"
      ],
      "text/plain": [
       "      diff log spot prices  diff log futures prices\n",
       "8991              0.936093                 0.806476\n",
       "8992              0.438255                 0.806476\n",
       "8993             -1.514128                 0.806476\n",
       "8994             -1.514128                 0.806476\n",
       "8995             -1.514128                 0.806476"
      ]
     },
     "execution_count": 64,
     "metadata": {},
     "output_type": "execute_result"
    }
   ],
   "source": [
    "df_model.tail()"
   ]
  },
  {
   "cell_type": "markdown",
   "metadata": {
    "azdata_cell_guid": "69707e79-0d56-446b-bf7f-7ae58cec0f59"
   },
   "source": [
    "## perform linear regression"
   ]
  },
  {
   "cell_type": "code",
   "execution_count": null,
   "metadata": {},
   "outputs": [],
   "source": []
  },
  {
   "cell_type": "code",
   "execution_count": 1,
   "metadata": {},
   "outputs": [],
   "source": [
    "import numpy as np\n",
    "from sklearn.linear_model import LinearRegression"
   ]
  },
  {
   "cell_type": "code",
   "execution_count": 2,
   "metadata": {
    "azdata_cell_guid": "48fac5db-2612-4eb3-93ae-50a5c19e810f"
   },
   "outputs": [],
   "source": [
    "model = LinearRegression()"
   ]
  },
  {
   "cell_type": "code",
   "execution_count": null,
   "metadata": {
    "azdata_cell_guid": "b3151ddb-0a82-4f09-87e4-c1480120cb5c"
   },
   "outputs": [],
   "source": []
  },
  {
   "cell_type": "code",
   "execution_count": null,
   "metadata": {
    "azdata_cell_guid": "54f544af-bc4e-43e3-bf0f-c1ed59670f2b"
   },
   "outputs": [],
   "source": []
  },
  {
   "cell_type": "code",
   "execution_count": null,
   "metadata": {
    "azdata_cell_guid": "7b47c74c-ac54-4779-b607-caa9904dbe13"
   },
   "outputs": [],
   "source": []
  },
  {
   "cell_type": "code",
   "execution_count": null,
   "metadata": {
    "azdata_cell_guid": "409df462-edfb-4084-987a-1a6bf4418a1e"
   },
   "outputs": [],
   "source": []
  },
  {
   "cell_type": "code",
   "execution_count": null,
   "metadata": {
    "azdata_cell_guid": "daa390ca-1f85-41aa-ab44-3f4710c3a572"
   },
   "outputs": [],
   "source": []
  },
  {
   "cell_type": "code",
   "execution_count": null,
   "metadata": {
    "azdata_cell_guid": "aa149ad9-4d79-4416-a54c-69c294ea694d"
   },
   "outputs": [],
   "source": []
  }
 ],
 "metadata": {
  "kernelspec": {
   "display_name": "Python 3",
   "language": "python",
   "name": "python3"
  },
  "language_info": {
   "codemirror_mode": {
    "name": "ipython",
    "version": 3
   },
   "file_extension": ".py",
   "mimetype": "text/x-python",
   "name": "python",
   "nbconvert_exporter": "python",
   "pygments_lexer": "ipython3",
   "version": "3.7.6"
  }
 },
 "nbformat": 4,
 "nbformat_minor": 2
}
