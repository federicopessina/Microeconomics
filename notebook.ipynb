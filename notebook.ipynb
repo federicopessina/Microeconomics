{
    "metadata": {
        "kernelspec": {
            "name": "python3",
            "display_name": "Python 3",
            "language": "python"
        },
        "language_info": {
            "name": "python",
            "version": "3.7.6",
            "mimetype": "text/x-python",
            "codemirror_mode": {
                "name": "ipython",
                "version": 3
            },
            "pygments_lexer": "ipython3",
            "nbconvert_exporter": "python",
            "file_extension": ".py"
        }
    },
    "nbformat_minor": 2,
    "nbformat": 4,
    "cells": [
        {
            "cell_type": "code",
            "source": [
                "print('hello microeconomics')"
            ],
            "metadata": {
                "azdata_cell_guid": "c59c7c47-3855-403b-860f-209e4a5af842"
            },
            "outputs": [
                {
                    "name": "stdout",
                    "text": "hello microeconomics\n",
                    "output_type": "stream"
                }
            ],
            "execution_count": 1
        }
    ]
}