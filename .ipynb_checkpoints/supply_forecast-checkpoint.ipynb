{
 "cells": [
  {
   "cell_type": "markdown",
   "metadata": {
    "azdata_cell_guid": "297cf86b-9cc3-481d-9ff0-c3626688939b"
   },
   "source": [
    "# Advanced Microeconomics Assignment"
   ]
  },
  {
   "cell_type": "markdown",
   "metadata": {
    "azdata_cell_guid": "5652dcc5-a57d-40fc-a72c-6c8050a324ef"
   },
   "source": [
    "# Data Management"
   ]
  },
  {
   "cell_type": "markdown",
   "metadata": {
    "azdata_cell_guid": "1fed0161-3dc1-4201-92b2-896ba2bf702e"
   },
   "source": [
    "## Import Data"
   ]
  },
  {
   "cell_type": "code",
   "execution_count": 1,
   "metadata": {
    "azdata_cell_guid": "7e5733c6-415d-47df-92f2-9c30744b3185"
   },
   "outputs": [],
   "source": [
    "import pandas as pd\n",
    "import numpy as np"
   ]
  },
  {
   "cell_type": "code",
   "execution_count": 2,
   "metadata": {
    "azdata_cell_guid": "0830ca6d-843d-4e37-bcf5-4056e7c1a1bc"
   },
   "outputs": [],
   "source": [
    "data_location = 'C:/Users/Naseem/Documents/Microeconomics'\n",
    "\n",
    "# file extensions\n",
    "excel_old = '.xls'\n",
    "excel = '.xlsx'\n",
    "\n",
    "# file name\n",
    "futures_data_name = '/'+'PET_PRI_FUT_S1_D'\n",
    "crude_oil_production_name = '/'+ 'Table_3.1_Petroleum_Overview'\n",
    "spot_prices_name = '/'+ 'PET_PRI_SPT_S1_D'\n",
    "\n",
    "\n",
    "# import data\n",
    "futures_data = pd.read_excel(data_location + futures_data_name + excel_old, sheet_name = 'Data 1', header = 2)\n",
    "spot_prices_data = pd.read_excel(data_location + spot_prices_name + excel_old, sheet_name = 'Data 1', header = 2)"
   ]
  },
  {
   "cell_type": "markdown",
   "metadata": {
    "azdata_cell_guid": "0623b5f9-1fb0-4450-bd41-5b27817148a7"
   },
   "source": [
    "## Select Data"
   ]
  },
  {
   "cell_type": "markdown",
   "metadata": {
    "azdata_cell_guid": "ea6089d0-5738-439f-bd19-a386a3608375"
   },
   "source": [
    "### retrive only useful columns"
   ]
  },
  {
   "cell_type": "code",
   "execution_count": 3,
   "metadata": {},
   "outputs": [
    {
     "data": {
      "text/html": [
       "<div>\n",
       "<style scoped>\n",
       "    .dataframe tbody tr th:only-of-type {\n",
       "        vertical-align: middle;\n",
       "    }\n",
       "\n",
       "    .dataframe tbody tr th {\n",
       "        vertical-align: top;\n",
       "    }\n",
       "\n",
       "    .dataframe thead th {\n",
       "        text-align: right;\n",
       "    }\n",
       "</style>\n",
       "<table border=\"1\" class=\"dataframe\">\n",
       "  <thead>\n",
       "    <tr style=\"text-align: right;\">\n",
       "      <th></th>\n",
       "      <th>Date</th>\n",
       "      <th>Cushing, OK WTI Spot Price FOB (Dollars per Barrel)</th>\n",
       "    </tr>\n",
       "  </thead>\n",
       "  <tbody>\n",
       "    <tr>\n",
       "      <th>0</th>\n",
       "      <td>1986-01-02</td>\n",
       "      <td>25.56</td>\n",
       "    </tr>\n",
       "    <tr>\n",
       "      <th>1</th>\n",
       "      <td>1986-01-03</td>\n",
       "      <td>26.00</td>\n",
       "    </tr>\n",
       "    <tr>\n",
       "      <th>2</th>\n",
       "      <td>1986-01-06</td>\n",
       "      <td>26.53</td>\n",
       "    </tr>\n",
       "    <tr>\n",
       "      <th>3</th>\n",
       "      <td>1986-01-07</td>\n",
       "      <td>25.85</td>\n",
       "    </tr>\n",
       "    <tr>\n",
       "      <th>4</th>\n",
       "      <td>1986-01-08</td>\n",
       "      <td>25.87</td>\n",
       "    </tr>\n",
       "  </tbody>\n",
       "</table>\n",
       "</div>"
      ],
      "text/plain": [
       "        Date  Cushing, OK WTI Spot Price FOB (Dollars per Barrel)\n",
       "0 1986-01-02                                              25.56  \n",
       "1 1986-01-03                                              26.00  \n",
       "2 1986-01-06                                              26.53  \n",
       "3 1986-01-07                                              25.85  \n",
       "4 1986-01-08                                              25.87  "
      ]
     },
     "execution_count": 3,
     "metadata": {},
     "output_type": "execute_result"
    }
   ],
   "source": [
    "spot_prices_data = spot_prices_data[['Date','Cushing, OK WTI Spot Price FOB (Dollars per Barrel)']]\n",
    "spot_prices_data.head()"
   ]
  },
  {
   "cell_type": "code",
   "execution_count": 4,
   "metadata": {
    "azdata_cell_guid": "4894a852-4edb-453e-89a0-60d9c4478078"
   },
   "outputs": [
    {
     "data": {
      "text/html": [
       "<div>\n",
       "<style scoped>\n",
       "    .dataframe tbody tr th:only-of-type {\n",
       "        vertical-align: middle;\n",
       "    }\n",
       "\n",
       "    .dataframe tbody tr th {\n",
       "        vertical-align: top;\n",
       "    }\n",
       "\n",
       "    .dataframe thead th {\n",
       "        text-align: right;\n",
       "    }\n",
       "</style>\n",
       "<table border=\"1\" class=\"dataframe\">\n",
       "  <thead>\n",
       "    <tr style=\"text-align: right;\">\n",
       "      <th></th>\n",
       "      <th>Date</th>\n",
       "      <th>Cushing, OK Crude Oil Future Contract 1 (Dollars per Barrel)</th>\n",
       "      <th>Cushing, OK Crude Oil Future Contract 2 (Dollars per Barrel)</th>\n",
       "      <th>Cushing, OK Crude Oil Future Contract 3 (Dollars per Barrel)</th>\n",
       "      <th>Cushing, OK Crude Oil Future Contract 4 (Dollars per Barrel)</th>\n",
       "    </tr>\n",
       "  </thead>\n",
       "  <tbody>\n",
       "    <tr>\n",
       "      <th>0</th>\n",
       "      <td>1983-03-30</td>\n",
       "      <td>NaN</td>\n",
       "      <td>NaN</td>\n",
       "      <td>29.35</td>\n",
       "      <td>NaN</td>\n",
       "    </tr>\n",
       "    <tr>\n",
       "      <th>1</th>\n",
       "      <td>1983-03-31</td>\n",
       "      <td>NaN</td>\n",
       "      <td>NaN</td>\n",
       "      <td>29.24</td>\n",
       "      <td>NaN</td>\n",
       "    </tr>\n",
       "    <tr>\n",
       "      <th>2</th>\n",
       "      <td>1983-04-04</td>\n",
       "      <td>29.44</td>\n",
       "      <td>NaN</td>\n",
       "      <td>29.10</td>\n",
       "      <td>NaN</td>\n",
       "    </tr>\n",
       "    <tr>\n",
       "      <th>3</th>\n",
       "      <td>1983-04-05</td>\n",
       "      <td>29.71</td>\n",
       "      <td>NaN</td>\n",
       "      <td>29.35</td>\n",
       "      <td>NaN</td>\n",
       "    </tr>\n",
       "    <tr>\n",
       "      <th>4</th>\n",
       "      <td>1983-04-06</td>\n",
       "      <td>29.92</td>\n",
       "      <td>NaN</td>\n",
       "      <td>29.50</td>\n",
       "      <td>NaN</td>\n",
       "    </tr>\n",
       "  </tbody>\n",
       "</table>\n",
       "</div>"
      ],
      "text/plain": [
       "        Date  Cushing, OK Crude Oil Future Contract 1 (Dollars per Barrel)  \\\n",
       "0 1983-03-30                                                NaN              \n",
       "1 1983-03-31                                                NaN              \n",
       "2 1983-04-04                                              29.44              \n",
       "3 1983-04-05                                              29.71              \n",
       "4 1983-04-06                                              29.92              \n",
       "\n",
       "   Cushing, OK Crude Oil Future Contract 2 (Dollars per Barrel)  \\\n",
       "0                                                NaN              \n",
       "1                                                NaN              \n",
       "2                                                NaN              \n",
       "3                                                NaN              \n",
       "4                                                NaN              \n",
       "\n",
       "   Cushing, OK Crude Oil Future Contract 3 (Dollars per Barrel)  \\\n",
       "0                                              29.35              \n",
       "1                                              29.24              \n",
       "2                                              29.10              \n",
       "3                                              29.35              \n",
       "4                                              29.50              \n",
       "\n",
       "   Cushing, OK Crude Oil Future Contract 4 (Dollars per Barrel)  \n",
       "0                                                NaN             \n",
       "1                                                NaN             \n",
       "2                                                NaN             \n",
       "3                                                NaN             \n",
       "4                                                NaN             "
      ]
     },
     "execution_count": 4,
     "metadata": {},
     "output_type": "execute_result"
    }
   ],
   "source": [
    "futures_data.head()"
   ]
  },
  {
   "cell_type": "code",
   "execution_count": 5,
   "metadata": {
    "azdata_cell_guid": "b3873a29-8ef6-4efd-bf55-ff199cc2d1f2"
   },
   "outputs": [
    {
     "data": {
      "text/html": [
       "<div>\n",
       "<style scoped>\n",
       "    .dataframe tbody tr th:only-of-type {\n",
       "        vertical-align: middle;\n",
       "    }\n",
       "\n",
       "    .dataframe tbody tr th {\n",
       "        vertical-align: top;\n",
       "    }\n",
       "\n",
       "    .dataframe thead th {\n",
       "        text-align: right;\n",
       "    }\n",
       "</style>\n",
       "<table border=\"1\" class=\"dataframe\">\n",
       "  <thead>\n",
       "    <tr style=\"text-align: right;\">\n",
       "      <th></th>\n",
       "      <th>Date</th>\n",
       "      <th>Cushing, OK Crude Oil Future Contract 4 (Dollars per Barrel)</th>\n",
       "    </tr>\n",
       "  </thead>\n",
       "  <tbody>\n",
       "    <tr>\n",
       "      <th>0</th>\n",
       "      <td>1983-03-30</td>\n",
       "      <td>NaN</td>\n",
       "    </tr>\n",
       "    <tr>\n",
       "      <th>1</th>\n",
       "      <td>1983-03-31</td>\n",
       "      <td>NaN</td>\n",
       "    </tr>\n",
       "    <tr>\n",
       "      <th>2</th>\n",
       "      <td>1983-04-04</td>\n",
       "      <td>NaN</td>\n",
       "    </tr>\n",
       "    <tr>\n",
       "      <th>3</th>\n",
       "      <td>1983-04-05</td>\n",
       "      <td>NaN</td>\n",
       "    </tr>\n",
       "    <tr>\n",
       "      <th>4</th>\n",
       "      <td>1983-04-06</td>\n",
       "      <td>NaN</td>\n",
       "    </tr>\n",
       "    <tr>\n",
       "      <th>...</th>\n",
       "      <td>...</td>\n",
       "      <td>...</td>\n",
       "    </tr>\n",
       "    <tr>\n",
       "      <th>9514</th>\n",
       "      <td>2021-02-17</td>\n",
       "      <td>60.18</td>\n",
       "    </tr>\n",
       "    <tr>\n",
       "      <th>9515</th>\n",
       "      <td>2021-02-18</td>\n",
       "      <td>59.67</td>\n",
       "    </tr>\n",
       "    <tr>\n",
       "      <th>9516</th>\n",
       "      <td>2021-02-19</td>\n",
       "      <td>58.66</td>\n",
       "    </tr>\n",
       "    <tr>\n",
       "      <th>9517</th>\n",
       "      <td>2021-02-22</td>\n",
       "      <td>60.90</td>\n",
       "    </tr>\n",
       "    <tr>\n",
       "      <th>9518</th>\n",
       "      <td>2021-02-23</td>\n",
       "      <td>60.37</td>\n",
       "    </tr>\n",
       "  </tbody>\n",
       "</table>\n",
       "<p>9519 rows × 2 columns</p>\n",
       "</div>"
      ],
      "text/plain": [
       "           Date  Cushing, OK Crude Oil Future Contract 4 (Dollars per Barrel)\n",
       "0    1983-03-30                                                NaN           \n",
       "1    1983-03-31                                                NaN           \n",
       "2    1983-04-04                                                NaN           \n",
       "3    1983-04-05                                                NaN           \n",
       "4    1983-04-06                                                NaN           \n",
       "...         ...                                                ...           \n",
       "9514 2021-02-17                                              60.18           \n",
       "9515 2021-02-18                                              59.67           \n",
       "9516 2021-02-19                                              58.66           \n",
       "9517 2021-02-22                                              60.90           \n",
       "9518 2021-02-23                                              60.37           \n",
       "\n",
       "[9519 rows x 2 columns]"
      ]
     },
     "execution_count": 5,
     "metadata": {},
     "output_type": "execute_result"
    }
   ],
   "source": [
    "futures_3_months = futures_data[['Date','Cushing, OK Crude Oil Future Contract 4 (Dollars per Barrel)']]\n",
    "futures_3_months"
   ]
  },
  {
   "cell_type": "markdown",
   "metadata": {},
   "source": [
    "## merge"
   ]
  },
  {
   "cell_type": "code",
   "execution_count": 6,
   "metadata": {},
   "outputs": [
    {
     "data": {
      "text/html": [
       "<div>\n",
       "<style scoped>\n",
       "    .dataframe tbody tr th:only-of-type {\n",
       "        vertical-align: middle;\n",
       "    }\n",
       "\n",
       "    .dataframe tbody tr th {\n",
       "        vertical-align: top;\n",
       "    }\n",
       "\n",
       "    .dataframe thead th {\n",
       "        text-align: right;\n",
       "    }\n",
       "</style>\n",
       "<table border=\"1\" class=\"dataframe\">\n",
       "  <thead>\n",
       "    <tr style=\"text-align: right;\">\n",
       "      <th></th>\n",
       "      <th>Date</th>\n",
       "      <th>Cushing, OK WTI Spot Price FOB (Dollars per Barrel)</th>\n",
       "      <th>Cushing, OK Crude Oil Future Contract 4 (Dollars per Barrel)</th>\n",
       "    </tr>\n",
       "  </thead>\n",
       "  <tbody>\n",
       "    <tr>\n",
       "      <th>0</th>\n",
       "      <td>1986-01-02</td>\n",
       "      <td>25.56</td>\n",
       "      <td>23.21</td>\n",
       "    </tr>\n",
       "    <tr>\n",
       "      <th>1</th>\n",
       "      <td>1986-01-03</td>\n",
       "      <td>26.00</td>\n",
       "      <td>23.62</td>\n",
       "    </tr>\n",
       "    <tr>\n",
       "      <th>2</th>\n",
       "      <td>1986-01-06</td>\n",
       "      <td>26.53</td>\n",
       "      <td>24.18</td>\n",
       "    </tr>\n",
       "    <tr>\n",
       "      <th>3</th>\n",
       "      <td>1986-01-07</td>\n",
       "      <td>25.85</td>\n",
       "      <td>23.75</td>\n",
       "    </tr>\n",
       "    <tr>\n",
       "      <th>4</th>\n",
       "      <td>1986-01-08</td>\n",
       "      <td>25.87</td>\n",
       "      <td>23.40</td>\n",
       "    </tr>\n",
       "  </tbody>\n",
       "</table>\n",
       "</div>"
      ],
      "text/plain": [
       "        Date  Cushing, OK WTI Spot Price FOB (Dollars per Barrel)  \\\n",
       "0 1986-01-02                                              25.56     \n",
       "1 1986-01-03                                              26.00     \n",
       "2 1986-01-06                                              26.53     \n",
       "3 1986-01-07                                              25.85     \n",
       "4 1986-01-08                                              25.87     \n",
       "\n",
       "   Cushing, OK Crude Oil Future Contract 4 (Dollars per Barrel)  \n",
       "0                                              23.21             \n",
       "1                                              23.62             \n",
       "2                                              24.18             \n",
       "3                                              23.75             \n",
       "4                                              23.40             "
      ]
     },
     "execution_count": 6,
     "metadata": {},
     "output_type": "execute_result"
    }
   ],
   "source": [
    "merged_dataframe = spot_prices_data.merge(futures_3_months,how='left', on = 'Date')\n",
    "merged_dataframe.head()"
   ]
  },
  {
   "cell_type": "code",
   "execution_count": 7,
   "metadata": {},
   "outputs": [
    {
     "data": {
      "text/plain": [
       "False    8817\n",
       "True      189\n",
       "Name: Cushing, OK Crude Oil Future Contract 4 (Dollars per Barrel), dtype: int64"
      ]
     },
     "execution_count": 7,
     "metadata": {},
     "output_type": "execute_result"
    }
   ],
   "source": [
    "merged_dataframe['Cushing, OK Crude Oil Future Contract 4 (Dollars per Barrel)'].isna().value_counts()"
   ]
  },
  {
   "cell_type": "code",
   "execution_count": 8,
   "metadata": {},
   "outputs": [
    {
     "name": "stderr",
     "output_type": "stream",
     "text": [
      "C:\\Users\\Naseem\\Anaconda3\\lib\\site-packages\\pandas\\core\\series.py:726: RuntimeWarning: invalid value encountered in log\n",
      "  result = getattr(ufunc, method)(*inputs, **kwargs)\n"
     ]
    },
    {
     "data": {
      "text/html": [
       "<div>\n",
       "<style scoped>\n",
       "    .dataframe tbody tr th:only-of-type {\n",
       "        vertical-align: middle;\n",
       "    }\n",
       "\n",
       "    .dataframe tbody tr th {\n",
       "        vertical-align: top;\n",
       "    }\n",
       "\n",
       "    .dataframe thead th {\n",
       "        text-align: right;\n",
       "    }\n",
       "</style>\n",
       "<table border=\"1\" class=\"dataframe\">\n",
       "  <thead>\n",
       "    <tr style=\"text-align: right;\">\n",
       "      <th></th>\n",
       "      <th>Date</th>\n",
       "      <th>Cushing, OK WTI Spot Price FOB (Dollars per Barrel)</th>\n",
       "      <th>Cushing, OK Crude Oil Future Contract 4 (Dollars per Barrel)</th>\n",
       "      <th>Log Spot Prices</th>\n",
       "    </tr>\n",
       "  </thead>\n",
       "  <tbody>\n",
       "    <tr>\n",
       "      <th>0</th>\n",
       "      <td>1986-01-02</td>\n",
       "      <td>25.56</td>\n",
       "      <td>23.21</td>\n",
       "      <td>3.241029</td>\n",
       "    </tr>\n",
       "    <tr>\n",
       "      <th>1</th>\n",
       "      <td>1986-01-03</td>\n",
       "      <td>26.00</td>\n",
       "      <td>23.62</td>\n",
       "      <td>3.258097</td>\n",
       "    </tr>\n",
       "    <tr>\n",
       "      <th>2</th>\n",
       "      <td>1986-01-06</td>\n",
       "      <td>26.53</td>\n",
       "      <td>24.18</td>\n",
       "      <td>3.278276</td>\n",
       "    </tr>\n",
       "    <tr>\n",
       "      <th>3</th>\n",
       "      <td>1986-01-07</td>\n",
       "      <td>25.85</td>\n",
       "      <td>23.75</td>\n",
       "      <td>3.252311</td>\n",
       "    </tr>\n",
       "    <tr>\n",
       "      <th>4</th>\n",
       "      <td>1986-01-08</td>\n",
       "      <td>25.87</td>\n",
       "      <td>23.40</td>\n",
       "      <td>3.253084</td>\n",
       "    </tr>\n",
       "  </tbody>\n",
       "</table>\n",
       "</div>"
      ],
      "text/plain": [
       "        Date  Cushing, OK WTI Spot Price FOB (Dollars per Barrel)  \\\n",
       "0 1986-01-02                                              25.56     \n",
       "1 1986-01-03                                              26.00     \n",
       "2 1986-01-06                                              26.53     \n",
       "3 1986-01-07                                              25.85     \n",
       "4 1986-01-08                                              25.87     \n",
       "\n",
       "   Cushing, OK Crude Oil Future Contract 4 (Dollars per Barrel)  \\\n",
       "0                                              23.21              \n",
       "1                                              23.62              \n",
       "2                                              24.18              \n",
       "3                                              23.75              \n",
       "4                                              23.40              \n",
       "\n",
       "   Log Spot Prices  \n",
       "0         3.241029  \n",
       "1         3.258097  \n",
       "2         3.278276  \n",
       "3         3.252311  \n",
       "4         3.253084  "
      ]
     },
     "execution_count": 8,
     "metadata": {},
     "output_type": "execute_result"
    }
   ],
   "source": [
    "merged_dataframe['Log Spot Prices'] = np.log(merged_dataframe['Cushing, OK WTI Spot Price FOB (Dollars per Barrel)'])\n",
    "merged_dataframe.head()"
   ]
  },
  {
   "cell_type": "code",
   "execution_count": 9,
   "metadata": {},
   "outputs": [
    {
     "data": {
      "text/html": [
       "<div>\n",
       "<style scoped>\n",
       "    .dataframe tbody tr th:only-of-type {\n",
       "        vertical-align: middle;\n",
       "    }\n",
       "\n",
       "    .dataframe tbody tr th {\n",
       "        vertical-align: top;\n",
       "    }\n",
       "\n",
       "    .dataframe thead th {\n",
       "        text-align: right;\n",
       "    }\n",
       "</style>\n",
       "<table border=\"1\" class=\"dataframe\">\n",
       "  <thead>\n",
       "    <tr style=\"text-align: right;\">\n",
       "      <th></th>\n",
       "      <th>Date</th>\n",
       "      <th>Cushing, OK WTI Spot Price FOB (Dollars per Barrel)</th>\n",
       "      <th>Cushing, OK Crude Oil Future Contract 4 (Dollars per Barrel)</th>\n",
       "      <th>Log Spot Prices</th>\n",
       "      <th>Log Futures Prices</th>\n",
       "    </tr>\n",
       "  </thead>\n",
       "  <tbody>\n",
       "    <tr>\n",
       "      <th>0</th>\n",
       "      <td>1986-01-02</td>\n",
       "      <td>25.56</td>\n",
       "      <td>23.21</td>\n",
       "      <td>3.241029</td>\n",
       "      <td>3.144583</td>\n",
       "    </tr>\n",
       "    <tr>\n",
       "      <th>1</th>\n",
       "      <td>1986-01-03</td>\n",
       "      <td>26.00</td>\n",
       "      <td>23.62</td>\n",
       "      <td>3.258097</td>\n",
       "      <td>3.162094</td>\n",
       "    </tr>\n",
       "    <tr>\n",
       "      <th>2</th>\n",
       "      <td>1986-01-06</td>\n",
       "      <td>26.53</td>\n",
       "      <td>24.18</td>\n",
       "      <td>3.278276</td>\n",
       "      <td>3.185526</td>\n",
       "    </tr>\n",
       "    <tr>\n",
       "      <th>3</th>\n",
       "      <td>1986-01-07</td>\n",
       "      <td>25.85</td>\n",
       "      <td>23.75</td>\n",
       "      <td>3.252311</td>\n",
       "      <td>3.167583</td>\n",
       "    </tr>\n",
       "    <tr>\n",
       "      <th>4</th>\n",
       "      <td>1986-01-08</td>\n",
       "      <td>25.87</td>\n",
       "      <td>23.40</td>\n",
       "      <td>3.253084</td>\n",
       "      <td>3.152736</td>\n",
       "    </tr>\n",
       "  </tbody>\n",
       "</table>\n",
       "</div>"
      ],
      "text/plain": [
       "        Date  Cushing, OK WTI Spot Price FOB (Dollars per Barrel)  \\\n",
       "0 1986-01-02                                              25.56     \n",
       "1 1986-01-03                                              26.00     \n",
       "2 1986-01-06                                              26.53     \n",
       "3 1986-01-07                                              25.85     \n",
       "4 1986-01-08                                              25.87     \n",
       "\n",
       "   Cushing, OK Crude Oil Future Contract 4 (Dollars per Barrel)  \\\n",
       "0                                              23.21              \n",
       "1                                              23.62              \n",
       "2                                              24.18              \n",
       "3                                              23.75              \n",
       "4                                              23.40              \n",
       "\n",
       "   Log Spot Prices  Log Futures Prices  \n",
       "0         3.241029            3.144583  \n",
       "1         3.258097            3.162094  \n",
       "2         3.278276            3.185526  \n",
       "3         3.252311            3.167583  \n",
       "4         3.253084            3.152736  "
      ]
     },
     "execution_count": 9,
     "metadata": {},
     "output_type": "execute_result"
    }
   ],
   "source": [
    "merged_dataframe['Log Futures Prices'] = np.log(merged_dataframe['Cushing, OK Crude Oil Future Contract 4 (Dollars per Barrel)'])\n",
    "merged_dataframe.head()"
   ]
  },
  {
   "cell_type": "code",
   "execution_count": 10,
   "metadata": {},
   "outputs": [
    {
     "data": {
      "text/html": [
       "<div>\n",
       "<style scoped>\n",
       "    .dataframe tbody tr th:only-of-type {\n",
       "        vertical-align: middle;\n",
       "    }\n",
       "\n",
       "    .dataframe tbody tr th {\n",
       "        vertical-align: top;\n",
       "    }\n",
       "\n",
       "    .dataframe thead th {\n",
       "        text-align: right;\n",
       "    }\n",
       "</style>\n",
       "<table border=\"1\" class=\"dataframe\">\n",
       "  <thead>\n",
       "    <tr style=\"text-align: right;\">\n",
       "      <th></th>\n",
       "      <th>Date</th>\n",
       "      <th>Cushing, OK WTI Spot Price FOB (Dollars per Barrel)</th>\n",
       "      <th>Cushing, OK Crude Oil Future Contract 4 (Dollars per Barrel)</th>\n",
       "      <th>Log Spot Prices</th>\n",
       "      <th>Log Futures Prices</th>\n",
       "      <th>diff log spot prices</th>\n",
       "      <th>diff log futures prices</th>\n",
       "    </tr>\n",
       "  </thead>\n",
       "  <tbody>\n",
       "    <tr>\n",
       "      <th>0</th>\n",
       "      <td>1986-01-02</td>\n",
       "      <td>25.56</td>\n",
       "      <td>23.21</td>\n",
       "      <td>3.241029</td>\n",
       "      <td>3.144583</td>\n",
       "      <td>NaN</td>\n",
       "      <td>NaN</td>\n",
       "    </tr>\n",
       "    <tr>\n",
       "      <th>1</th>\n",
       "      <td>1986-01-03</td>\n",
       "      <td>26.00</td>\n",
       "      <td>23.62</td>\n",
       "      <td>3.258097</td>\n",
       "      <td>3.162094</td>\n",
       "      <td>0.017068</td>\n",
       "      <td>0.017511</td>\n",
       "    </tr>\n",
       "    <tr>\n",
       "      <th>2</th>\n",
       "      <td>1986-01-06</td>\n",
       "      <td>26.53</td>\n",
       "      <td>24.18</td>\n",
       "      <td>3.278276</td>\n",
       "      <td>3.185526</td>\n",
       "      <td>0.020180</td>\n",
       "      <td>0.023432</td>\n",
       "    </tr>\n",
       "    <tr>\n",
       "      <th>3</th>\n",
       "      <td>1986-01-07</td>\n",
       "      <td>25.85</td>\n",
       "      <td>23.75</td>\n",
       "      <td>3.252311</td>\n",
       "      <td>3.167583</td>\n",
       "      <td>-0.025966</td>\n",
       "      <td>-0.017943</td>\n",
       "    </tr>\n",
       "    <tr>\n",
       "      <th>4</th>\n",
       "      <td>1986-01-08</td>\n",
       "      <td>25.87</td>\n",
       "      <td>23.40</td>\n",
       "      <td>3.253084</td>\n",
       "      <td>3.152736</td>\n",
       "      <td>0.000773</td>\n",
       "      <td>-0.014847</td>\n",
       "    </tr>\n",
       "  </tbody>\n",
       "</table>\n",
       "</div>"
      ],
      "text/plain": [
       "        Date  Cushing, OK WTI Spot Price FOB (Dollars per Barrel)  \\\n",
       "0 1986-01-02                                              25.56     \n",
       "1 1986-01-03                                              26.00     \n",
       "2 1986-01-06                                              26.53     \n",
       "3 1986-01-07                                              25.85     \n",
       "4 1986-01-08                                              25.87     \n",
       "\n",
       "   Cushing, OK Crude Oil Future Contract 4 (Dollars per Barrel)  \\\n",
       "0                                              23.21              \n",
       "1                                              23.62              \n",
       "2                                              24.18              \n",
       "3                                              23.75              \n",
       "4                                              23.40              \n",
       "\n",
       "   Log Spot Prices  Log Futures Prices  diff log spot prices  \\\n",
       "0         3.241029            3.144583                   NaN   \n",
       "1         3.258097            3.162094              0.017068   \n",
       "2         3.278276            3.185526              0.020180   \n",
       "3         3.252311            3.167583             -0.025966   \n",
       "4         3.253084            3.152736              0.000773   \n",
       "\n",
       "   diff log futures prices  \n",
       "0                      NaN  \n",
       "1                 0.017511  \n",
       "2                 0.023432  \n",
       "3                -0.017943  \n",
       "4                -0.014847  "
      ]
     },
     "execution_count": 10,
     "metadata": {},
     "output_type": "execute_result"
    }
   ],
   "source": [
    "merged_dataframe['diff log spot prices'] = merged_dataframe['Log Spot Prices'].diff()\n",
    "merged_dataframe['diff log futures prices'] = merged_dataframe['Log Futures Prices'].diff()\n",
    "merged_dataframe.head()"
   ]
  },
  {
   "cell_type": "markdown",
   "metadata": {},
   "source": [
    "## VAR"
   ]
  },
  {
   "cell_type": "markdown",
   "metadata": {},
   "source": [
    "### Imports"
   ]
  },
  {
   "cell_type": "code",
   "execution_count": 11,
   "metadata": {},
   "outputs": [],
   "source": [
    "import matplotlib.pyplot as plt\n",
    "%matplotlib inline\n",
    "\n",
    "# Import Statsmodels\n",
    "from statsmodels.tsa.api import VAR\n",
    "from statsmodels.tsa.stattools import adfuller,grangercausalitytests\n",
    "from statsmodels.tsa.vector_ar.vecm import coint_johansen\n",
    "from statsmodels.tools.eval_measures import rmse, aic"
   ]
  },
  {
   "cell_type": "markdown",
   "metadata": {},
   "source": [
    "## Preprocessing"
   ]
  },
  {
   "cell_type": "code",
   "execution_count": 12,
   "metadata": {},
   "outputs": [],
   "source": [
    "merged_dataframe_clean=merged_dataframe[['Log Spot Prices','Log Futures Prices','Cushing, OK WTI Spot Price FOB (Dollars per Barrel)','Cushing, OK Crude Oil Future Contract 4 (Dollars per Barrel)','diff log spot prices','diff log futures prices']]\n",
    "df_model =merged_dataframe_clean[['diff log spot prices','diff log futures prices']]\n",
    "df_model = df_model.fillna(method = 'ffill').iloc[1:]"
   ]
  },
  {
   "cell_type": "markdown",
   "metadata": {},
   "source": [
    "## Granger Causality"
   ]
  },
  {
   "cell_type": "code",
   "execution_count": 13,
   "metadata": {},
   "outputs": [
    {
     "data": {
      "text/html": [
       "<div>\n",
       "<style scoped>\n",
       "    .dataframe tbody tr th:only-of-type {\n",
       "        vertical-align: middle;\n",
       "    }\n",
       "\n",
       "    .dataframe tbody tr th {\n",
       "        vertical-align: top;\n",
       "    }\n",
       "\n",
       "    .dataframe thead th {\n",
       "        text-align: right;\n",
       "    }\n",
       "</style>\n",
       "<table border=\"1\" class=\"dataframe\">\n",
       "  <thead>\n",
       "    <tr style=\"text-align: right;\">\n",
       "      <th></th>\n",
       "      <th>diff log spot prices_x</th>\n",
       "      <th>diff log futures prices_x</th>\n",
       "    </tr>\n",
       "  </thead>\n",
       "  <tbody>\n",
       "    <tr>\n",
       "      <th>diff log spot prices_y</th>\n",
       "      <td>1.0</td>\n",
       "      <td>0.0</td>\n",
       "    </tr>\n",
       "    <tr>\n",
       "      <th>diff log futures prices_y</th>\n",
       "      <td>0.0</td>\n",
       "      <td>1.0</td>\n",
       "    </tr>\n",
       "  </tbody>\n",
       "</table>\n",
       "</div>"
      ],
      "text/plain": [
       "                           diff log spot prices_x  diff log futures prices_x\n",
       "diff log spot prices_y                        1.0                        0.0\n",
       "diff log futures prices_y                     0.0                        1.0"
      ]
     },
     "execution_count": 13,
     "metadata": {},
     "output_type": "execute_result"
    }
   ],
   "source": [
    "maxlag=12\n",
    "test = 'ssr_chi2test'\n",
    "def grangers_causation_matrix(data, variables, test='ssr_chi2test', verbose=False):    \n",
    "    \"\"\"Check Granger Causality of all possible combinations of the Time series.\n",
    "    The rows are the response variable, columns are predictors. The values in the table \n",
    "    are the P-Values. P-Values lesser than the significance level (0.05), implies \n",
    "    the Null Hypothesis that the coefficients of the corresponding past values is \n",
    "    zero, that is, the X does not cause Y can be rejected.\n",
    "\n",
    "    data      : pandas dataframe containing the time series variables\n",
    "    variables : list containing names of the time series variables.\n",
    "    \"\"\"\n",
    "    df = pd.DataFrame(np.zeros((len(variables), len(variables))), columns=variables, index=variables)\n",
    "    for c in df.columns:\n",
    "        for r in df.index:\n",
    "            test_result = grangercausalitytests(data[[r, c]], maxlag=maxlag, verbose=False)\n",
    "            p_values = [round(test_result[i+1][0][test][1],4) for i in range(maxlag)]\n",
    "            if verbose: print(f'Y = {r}, X = {c}, P Values = {p_values}')\n",
    "            min_p_value = np.min(p_values)\n",
    "            df.loc[r, c] = min_p_value\n",
    "    df.columns = [var + '_x' for var in variables]\n",
    "    df.index = [var + '_y' for var in variables]\n",
    "    return df\n",
    "\n",
    "grangers_causation_matrix(df_model, variables = df_model.columns)   "
   ]
  },
  {
   "cell_type": "markdown",
   "metadata": {},
   "source": [
    "We notice how the two variables cause each other as expected (since the price is determined among the various factors, also by futures and futures are based upon actual price)"
   ]
  },
  {
   "cell_type": "code",
   "execution_count": 14,
   "metadata": {},
   "outputs": [
    {
     "name": "stdout",
     "output_type": "stream",
     "text": [
      "Name   ::  Test Stat > C(95%)    =>   Signif  \n",
      " ----------------------------------------\n",
      "diff log spot prices ::  3083.87   > 12.3212   =>   True\n",
      "diff log futures prices ::  1407.24   > 4.1296    =>   True\n"
     ]
    }
   ],
   "source": [
    "def cointegration_test(df, alpha=0.05): \n",
    "    \"\"\"Perform Johanson's Cointegration Test and Report Summary\"\"\"\n",
    "    out = coint_johansen(df,-1,5)\n",
    "    d = {'0.90':0, '0.95':1, '0.99':2}\n",
    "    traces = out.lr1\n",
    "    cvts = out.cvt[:, d[str(1-alpha)]]\n",
    "    def adjust(val, length= 6): return str(val).ljust(length)\n",
    "\n",
    "    # Summary\n",
    "    print('Name   ::  Test Stat > C(95%)    =>   Signif  \\n', '--'*20)\n",
    "    for col, trace, cvt in zip(df.columns, traces, cvts):\n",
    "        print(adjust(col), ':: ', adjust(round(trace,2), 9), \">\", adjust(cvt, 8), ' =>  ' , trace > cvt)\n",
    "\n",
    "cointegration_test(df_model)"
   ]
  },
  {
   "cell_type": "markdown",
   "metadata": {},
   "source": [
    "We notice that our test statistics is way greater than the confidence intervall at 95%, thus confirming us that we cannot reject the hypotesis of cointegration"
   ]
  },
  {
   "cell_type": "code",
   "execution_count": 15,
   "metadata": {},
   "outputs": [],
   "source": [
    "def adfuller_test(series, signif=0.05, name='', verbose=False):\n",
    "    \"\"\"Perform ADFuller to test for Stationarity of given series and print report\"\"\"\n",
    "    r = adfuller(series, autolag='AIC')\n",
    "    output = {'test_statistic':round(r[0], 4), 'pvalue':round(r[1], 4), 'n_lags':round(r[2], 4), 'n_obs':r[3]}\n",
    "    p_value = output['pvalue'] \n",
    "    def adjust(val, length= 6): return str(val).ljust(length)\n",
    "\n",
    "    # Print Summary\n",
    "    print(f'    Augmented Dickey-Fuller Test on \"{name}\"', \"\\n   \", '-'*47)\n",
    "    print(f' Null Hypothesis: Data has unit root. Non-Stationary.')\n",
    "    print(f' Significance Level    = {signif}')\n",
    "    print(f' Test Statistic        = {output[\"test_statistic\"]}')\n",
    "    print(f' No. Lags Chosen       = {output[\"n_lags\"]}')\n",
    "\n",
    "    for key,val in r[4].items():\n",
    "        print(f' Critical value {adjust(key)} = {round(val, 3)}')\n",
    "\n",
    "    if p_value <= signif:\n",
    "        print(f\" => P-Value = {p_value}. Rejecting Null Hypothesis.\")\n",
    "        print(f\" => Series is Stationary.\")\n",
    "    else:\n",
    "        print(f\" => P-Value = {p_value}. Weak evidence to reject the Null Hypothesis.\")\n",
    "        print(f\" => Series is Non-Stationary.\")  "
   ]
  },
  {
   "cell_type": "code",
   "execution_count": 16,
   "metadata": {},
   "outputs": [
    {
     "name": "stdout",
     "output_type": "stream",
     "text": [
      "    Augmented Dickey-Fuller Test on \"diff log spot prices\" \n",
      "    -----------------------------------------------\n",
      " Null Hypothesis: Data has unit root. Non-Stationary.\n",
      " Significance Level    = 0.05\n",
      " Test Statistic        = -16.9842\n",
      " No. Lags Chosen       = 27\n",
      " Critical value 1%     = -3.431\n",
      " Critical value 5%     = -2.862\n",
      " Critical value 10%    = -2.567\n",
      " => P-Value = 0.0. Rejecting Null Hypothesis.\n",
      " => Series is Stationary.\n",
      "\n",
      "\n",
      "    Augmented Dickey-Fuller Test on \"diff log futures prices\" \n",
      "    -----------------------------------------------\n",
      " Null Hypothesis: Data has unit root. Non-Stationary.\n",
      " Significance Level    = 0.05\n",
      " Test Statistic        = -17.124\n",
      " No. Lags Chosen       = 25\n",
      " Critical value 1%     = -3.431\n",
      " Critical value 5%     = -2.862\n",
      " Critical value 10%    = -2.567\n",
      " => P-Value = 0.0. Rejecting Null Hypothesis.\n",
      " => Series is Stationary.\n",
      "\n",
      "\n"
     ]
    }
   ],
   "source": [
    "# ADF Test on each column\n",
    "for name, column in df_model.iteritems():\n",
    "    adfuller_test(column, name=column.name)\n",
    "    print('\\n')"
   ]
  },
  {
   "cell_type": "markdown",
   "metadata": {},
   "source": [
    "We can see that our data is stationary"
   ]
  },
  {
   "cell_type": "code",
   "execution_count": 17,
   "metadata": {},
   "outputs": [
    {
     "name": "stderr",
     "output_type": "stream",
     "text": [
      "C:\\Users\\Naseem\\Anaconda3\\lib\\site-packages\\statsmodels\\tsa\\base\\tsa_model.py:578: ValueWarning: An unsupported index was provided and will be ignored when e.g. forecasting.\n",
      "  warnings.warn('An unsupported index was provided and will be'\n"
     ]
    },
    {
     "data": {
      "text/html": [
       "<table class=\"simpletable\">\n",
       "<caption>VAR Order Selection (* highlights the minimums)</caption>\n",
       "<tr>\n",
       "   <td></td>      <th>AIC</th>         <th>BIC</th>         <th>FPE</th>        <th>HQIC</th>    \n",
       "</tr>\n",
       "<tr>\n",
       "  <th>0</th>  <td>    -16.20</td>  <td>    -16.20</td>  <td> 9.221e-08</td>  <td>    -16.20</td> \n",
       "</tr>\n",
       "<tr>\n",
       "  <th>1</th>  <td>    -16.20</td>  <td>    -16.20</td>  <td> 9.169e-08</td>  <td>    -16.20</td> \n",
       "</tr>\n",
       "<tr>\n",
       "  <th>2</th>  <td>    -16.21</td>  <td>    -16.20</td>  <td> 9.162e-08</td>  <td>    -16.20</td> \n",
       "</tr>\n",
       "<tr>\n",
       "  <th>3</th>  <td>    -16.22</td>  <td>    -16.21*</td> <td> 9.033e-08</td>  <td>    -16.22</td> \n",
       "</tr>\n",
       "<tr>\n",
       "  <th>4</th>  <td>    -16.22</td>  <td>    -16.21</td>  <td> 9.027e-08</td>  <td>    -16.22</td> \n",
       "</tr>\n",
       "<tr>\n",
       "  <th>5</th>  <td>    -16.22</td>  <td>    -16.21</td>  <td> 8.995e-08</td>  <td>    -16.22*</td>\n",
       "</tr>\n",
       "<tr>\n",
       "  <th>6</th>  <td>    -16.22</td>  <td>    -16.20</td>  <td> 8.999e-08</td>  <td>    -16.22</td> \n",
       "</tr>\n",
       "<tr>\n",
       "  <th>7</th>  <td>    -16.22</td>  <td>    -16.20</td>  <td> 8.994e-08</td>  <td>    -16.22</td> \n",
       "</tr>\n",
       "<tr>\n",
       "  <th>8</th>  <td>    -16.22</td>  <td>    -16.20</td>  <td> 8.987e-08</td>  <td>    -16.22</td> \n",
       "</tr>\n",
       "<tr>\n",
       "  <th>9</th>  <td>    -16.23</td>  <td>    -16.20</td>  <td> 8.979e-08</td>  <td>    -16.22</td> \n",
       "</tr>\n",
       "<tr>\n",
       "  <th>10</th> <td>    -16.23*</td> <td>    -16.19</td>  <td> 8.979e-08*</td> <td>    -16.21</td> \n",
       "</tr>\n",
       "<tr>\n",
       "  <th>11</th> <td>    -16.23</td>  <td>    -16.19</td>  <td> 8.981e-08</td>  <td>    -16.21</td> \n",
       "</tr>\n",
       "<tr>\n",
       "  <th>12</th> <td>    -16.22</td>  <td>    -16.19</td>  <td> 8.988e-08</td>  <td>    -16.21</td> \n",
       "</tr>\n",
       "</table>"
      ],
      "text/plain": [
       "<class 'statsmodels.iolib.table.SimpleTable'>"
      ]
     },
     "execution_count": 17,
     "metadata": {},
     "output_type": "execute_result"
    }
   ],
   "source": [
    "model = VAR(df_model)\n",
    "x = model.select_order(maxlags=12)\n",
    "x.summary()"
   ]
  },
  {
   "cell_type": "markdown",
   "metadata": {},
   "source": [
    "Using a criterion of lowest AIC and parsimoniuos modelling, we choose the 3rd lag order to model our VAR model"
   ]
  },
  {
   "cell_type": "code",
   "execution_count": 18,
   "metadata": {},
   "outputs": [
    {
     "data": {
      "image/png": "[encoded data removed]",
      "text/plain": [
       "<Figure size 1200x720 with 6 Axes>"
      ]
     },
     "metadata": {
      "needs_background": "light"
     },
     "output_type": "display_data"
    }
   ],
   "source": [
    "# Plot\n",
    "fig, axes = plt.subplots(nrows=3, ncols=2, dpi=120, figsize=(10,6))\n",
    "for i, ax in enumerate(axes.flatten()):\n",
    "    data = merged_dataframe_clean[merged_dataframe_clean.columns[i]]\n",
    "    ax.plot(data, color='red', linewidth=1)\n",
    "    # Decorations\n",
    "    ax.set_title(merged_dataframe_clean.columns[i])\n",
    "    ax.xaxis.set_ticks_position('none')\n",
    "    ax.yaxis.set_ticks_position('none')\n",
    "    ax.spines[\"top\"].set_alpha(0)\n",
    "    ax.tick_params(labelsize=6)\n",
    "\n",
    "plt.tight_layout();"
   ]
  },
  {
   "cell_type": "markdown",
   "metadata": {},
   "source": [
    "The data spans from 1986 to february of 2021: And we notice how the price is a mild reflection of the futures. The futures lives grater shocks (given it's predictional nature). We notice spikes a little bit after half of the graph (surely is 2008) and to the end great decreases (2020 Covid)"
   ]
  },
  {
   "cell_type": "code",
   "execution_count": 19,
   "metadata": {},
   "outputs": [
    {
     "data": {
      "text/plain": [
       "  Summary of Regression Results   \n",
       "==================================\n",
       "Model:                         VAR\n",
       "Method:                        OLS\n",
       "Date:           Sat, 20, Mar, 2021\n",
       "Time:                     20:16:06\n",
       "--------------------------------------------------------------------\n",
       "No. of Equations:         2.00000    BIC:                   -16.2074\n",
       "Nobs:                     9002.00    HQIC:                  -16.2147\n",
       "Log likelihood:           47466.7    FPE:                9.04521e-08\n",
       "AIC:                     -16.2184    Det(Omega_mle):     9.03116e-08\n",
       "--------------------------------------------------------------------\n",
       "Results for equation diff log spot prices\n",
       "=============================================================================================\n",
       "                                coefficient       std. error           t-stat            prob\n",
       "---------------------------------------------------------------------------------------------\n",
       "const                              0.000276         0.000283            0.974           0.330\n",
       "L1.diff log spot prices            0.094715         0.019077            4.965           0.000\n",
       "L1.diff log futures prices        -0.170664         0.025224           -6.766           0.000\n",
       "L2.diff log spot prices            0.025232         0.019102            1.321           0.187\n",
       "L2.diff log futures prices        -0.031419         0.025275           -1.243           0.214\n",
       "L3.diff log spot prices           -0.114299         0.019091           -5.987           0.000\n",
       "L3.diff log futures prices         0.088880         0.025270            3.517           0.000\n",
       "=============================================================================================\n",
       "\n",
       "Results for equation diff log futures prices\n",
       "=============================================================================================\n",
       "                                coefficient       std. error           t-stat            prob\n",
       "---------------------------------------------------------------------------------------------\n",
       "const                              0.000181         0.000215            0.843           0.399\n",
       "L1.diff log spot prices            0.077289         0.014462            5.344           0.000\n",
       "L1.diff log futures prices        -0.114592         0.019122           -5.993           0.000\n",
       "L2.diff log spot prices            0.035972         0.014480            2.484           0.013\n",
       "L2.diff log futures prices        -0.030938         0.019160           -1.615           0.106\n",
       "L3.diff log spot prices            0.002690         0.014472            0.186           0.853\n",
       "L3.diff log futures prices        -0.016848         0.019156           -0.879           0.379\n",
       "=============================================================================================\n",
       "\n",
       "Correlation matrix of residuals\n",
       "                           diff log spot prices  diff log futures prices\n",
       "diff log spot prices                   1.000000                 0.836069\n",
       "diff log futures prices                0.836069                 1.000000\n",
       "\n"
      ]
     },
     "execution_count": 19,
     "metadata": {},
     "output_type": "execute_result"
    }
   ],
   "source": [
    "result = model.fit(3)\n",
    "result.summary()"
   ]
  },
  {
   "cell_type": "markdown",
   "metadata": {},
   "source": [
    "The coefficents of a VAR model are not useful for a direct interpretation but we notice how the first and third lag diffs are the most significant factors (the petroleum is based a lot upon production means performances and 3 months futures)"
   ]
  },
  {
   "cell_type": "code",
   "execution_count": 20,
   "metadata": {},
   "outputs": [
    {
     "name": "stdout",
     "output_type": "stream",
     "text": [
      "diff log spot prices : 1.99694\n",
      "diff log futures prices : 1.99945\n"
     ]
    }
   ],
   "source": [
    "from statsmodels.stats.stattools import durbin_watson\n",
    "out = durbin_watson(result.resid)\n",
    "def adjust(val, length= 6): return str(val).ljust(length)\n",
    "for col, val in zip(df_model.columns, out):\n",
    "    print(adjust(col), ':', round(val, 5))"
   ]
  },
  {
   "cell_type": "markdown",
   "metadata": {},
   "source": [
    "We notice how the values are asymptotically near to 2 (the threshold of the DW test), meaning that there is no real serial correlation in the residuals"
   ]
  }
 ],
 "metadata": {
  "kernelspec": {
   "display_name": "Python 3",
   "language": "python",
   "name": "python3"
  },
  "language_info": {
   "codemirror_mode": {
    "name": "ipython",
    "version": 3
   },
   "file_extension": ".py",
   "mimetype": "text/x-python",
   "name": "python",
   "nbconvert_exporter": "python",
   "pygments_lexer": "ipython3",
   "version": "3.8.5"
  }
 },
 "nbformat": 4,
 "nbformat_minor": 2
}
